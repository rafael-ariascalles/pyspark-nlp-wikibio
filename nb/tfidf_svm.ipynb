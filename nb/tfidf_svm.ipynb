{
 "cells": [
  {
   "cell_type": "code",
   "execution_count": 1,
   "metadata": {},
   "outputs": [],
   "source": [
    "from pyspark.sql import SparkSession\n",
    "from pyspark.sql import functions as F\n",
    "from pyspark.sql.types import *\n",
    "\n",
    "import pandas as pd\n",
    "import seaborn as sns\n",
    "import matplotlib.pyplot as plt\n",
    "import os\n",
    "\n",
    "\n",
    "from pyspark.ml.feature import CountVectorizer,HashingTF\n",
    "from pyspark.ml.feature import IDF\n",
    "from pyspark.ml import Pipeline\n",
    "from pyspark.ml.classification import LinearSVC\n",
    "from pyspark.ml.evaluation import BinaryClassificationEvaluator,MulticlassClassificationEvaluator\n",
    "#Spark version and Spark NLP version should be align"
   ]
  },
  {
   "cell_type": "code",
   "execution_count": 2,
   "metadata": {},
   "outputs": [
    {
     "name": "stderr",
     "output_type": "stream",
     "text": [
      "22/06/16 16:53:20 WARN Utils: Your hostname, winware resolves to a loopback address: 127.0.1.1; using 172.30.234.12 instead (on interface eth0)\n",
      "22/06/16 16:53:20 WARN Utils: Set SPARK_LOCAL_IP if you need to bind to another address\n",
      "WARNING: An illegal reflective access operation has occurred\n",
      "WARNING: Illegal reflective access by org.apache.spark.unsafe.Platform (file:/home/rjac/anaconda3/envs/py-sparknlp/lib/python3.10/site-packages/pyspark/jars/spark-unsafe_2.12-3.1.2.jar) to constructor java.nio.DirectByteBuffer(long,int)\n",
      "WARNING: Please consider reporting this to the maintainers of org.apache.spark.unsafe.Platform\n",
      "WARNING: Use --illegal-access=warn to enable warnings of further illegal reflective access operations\n",
      "WARNING: All illegal access operations will be denied in a future release\n",
      "22/06/16 16:53:21 WARN NativeCodeLoader: Unable to load native-hadoop library for your platform... using builtin-java classes where applicable\n",
      "Using Spark's default log4j profile: org/apache/spark/log4j-defaults.properties\n",
      "Setting default log level to \"WARN\".\n",
      "To adjust logging level use sc.setLogLevel(newLevel). For SparkR, use setLogLevel(newLevel).\n"
     ]
    }
   ],
   "source": [
    "spark = SparkSession.builder\\\n",
    "    .appName(\"nlp\")\\\n",
    "    .master(\"local[11]\")\\\n",
    "    .config(\"spark.driver.memory\",\"10G\")\\\n",
    "    .config(\"spark.driver.maxResultSize\", \"0\") \\\n",
    "    .config(\"spark.kryoserializer.buffer.max\", \"2000M\")\\\n",
    "    .getOrCreate()\n",
    "\n",
    "spark.sparkContext.setLogLevel(\"ERROR\")"
   ]
  },
  {
   "cell_type": "code",
   "execution_count": 3,
   "metadata": {},
   "outputs": [],
   "source": [
    "df = spark.read.parquet(\"data/\")"
   ]
  },
  {
   "cell_type": "code",
   "execution_count": 4,
   "metadata": {},
   "outputs": [],
   "source": [
    "df = df.withColumn(\"label\", (F.col(\"gender\")>0).cast(\"integer\"))"
   ]
  },
  {
   "cell_type": "code",
   "execution_count": 5,
   "metadata": {},
   "outputs": [],
   "source": [
    "vectorize = CountVectorizer().setInputCol(\"pos_tokens\").setOutputCol(\"TF\")\n",
    "tfidf = IDF().setInputCol(\"TF\").setOutputCol(\"features\")\n",
    "svm = LinearSVC(maxIter=50, regParam=0.1)\n",
    "\n",
    "pipeline = Pipeline(stages=[vectorize,tfidf,svm])"
   ]
  },
  {
   "cell_type": "code",
   "execution_count": 6,
   "metadata": {},
   "outputs": [],
   "source": [
    "train, test = df.randomSplit([0.8, 0.2])"
   ]
  },
  {
   "cell_type": "code",
   "execution_count": 7,
   "metadata": {},
   "outputs": [
    {
     "name": "stderr",
     "output_type": "stream",
     "text": [
      "                                                                                \r"
     ]
    }
   ],
   "source": [
    "model = pipeline.fit(train)"
   ]
  },
  {
   "cell_type": "code",
   "execution_count": 8,
   "metadata": {},
   "outputs": [],
   "source": [
    "result = model.transform(test)"
   ]
  },
  {
   "cell_type": "code",
   "execution_count": 9,
   "metadata": {},
   "outputs": [],
   "source": [
    "evaluator = MulticlassClassificationEvaluator()"
   ]
  },
  {
   "cell_type": "code",
   "execution_count": 10,
   "metadata": {},
   "outputs": [
    {
     "name": "stderr",
     "output_type": "stream",
     "text": [
      "                                                                                \r"
     ]
    },
    {
     "data": {
      "text/plain": [
       "0.7869575332608502"
      ]
     },
     "execution_count": 10,
     "metadata": {},
     "output_type": "execute_result"
    }
   ],
   "source": [
    "evaluator.evaluate(result)"
   ]
  },
  {
   "cell_type": "code",
   "execution_count": 11,
   "metadata": {},
   "outputs": [],
   "source": [
    "vectorizer = model.stages[0]"
   ]
  },
  {
   "cell_type": "code",
   "execution_count": 12,
   "metadata": {},
   "outputs": [],
   "source": [
    "vocab = vectorizer.vocabulary"
   ]
  },
  {
   "cell_type": "code",
   "execution_count": 13,
   "metadata": {},
   "outputs": [],
   "source": [
    "svm_model = model.stages[-1]"
   ]
  },
  {
   "cell_type": "code",
   "execution_count": 14,
   "metadata": {},
   "outputs": [],
   "source": [
    "betas = svm_model.coefficients"
   ]
  },
  {
   "cell_type": "code",
   "execution_count": 15,
   "metadata": {},
   "outputs": [],
   "source": [
    "vocab_df = pd.DataFrame({\"vocab\":vocab,\"score\":betas})"
   ]
  },
  {
   "cell_type": "code",
   "execution_count": 17,
   "metadata": {},
   "outputs": [
    {
     "data": {
      "text/html": [
       "<div>\n",
       "<style scoped>\n",
       "    .dataframe tbody tr th:only-of-type {\n",
       "        vertical-align: middle;\n",
       "    }\n",
       "\n",
       "    .dataframe tbody tr th {\n",
       "        vertical-align: top;\n",
       "    }\n",
       "\n",
       "    .dataframe thead th {\n",
       "        text-align: right;\n",
       "    }\n",
       "</style>\n",
       "<table border=\"1\" class=\"dataframe\">\n",
       "  <thead>\n",
       "    <tr style=\"text-align: right;\">\n",
       "      <th></th>\n",
       "      <th>vocab</th>\n",
       "      <th>score</th>\n",
       "    </tr>\n",
       "  </thead>\n",
       "  <tbody>\n",
       "    <tr>\n",
       "      <th>88990</th>\n",
       "      <td>gülüstü</td>\n",
       "      <td>0.228330</td>\n",
       "    </tr>\n",
       "    <tr>\n",
       "      <th>42606</th>\n",
       "      <td>rafferty</td>\n",
       "      <td>0.231426</td>\n",
       "    </tr>\n",
       "    <tr>\n",
       "      <th>107980</th>\n",
       "      <td>chudinov</td>\n",
       "      <td>0.235383</td>\n",
       "    </tr>\n",
       "    <tr>\n",
       "      <th>73675</th>\n",
       "      <td>fennville</td>\n",
       "      <td>0.236000</td>\n",
       "    </tr>\n",
       "    <tr>\n",
       "      <th>45044</th>\n",
       "      <td>wiebe</td>\n",
       "      <td>0.242517</td>\n",
       "    </tr>\n",
       "    <tr>\n",
       "      <th>53676</th>\n",
       "      <td>johnpaul</td>\n",
       "      <td>0.242753</td>\n",
       "    </tr>\n",
       "    <tr>\n",
       "      <th>36835</th>\n",
       "      <td>caserta</td>\n",
       "      <td>0.255213</td>\n",
       "    </tr>\n",
       "    <tr>\n",
       "      <th>76038</th>\n",
       "      <td>swaran</td>\n",
       "      <td>0.256366</td>\n",
       "    </tr>\n",
       "    <tr>\n",
       "      <th>47244</th>\n",
       "      <td>cachaco</td>\n",
       "      <td>0.256549</td>\n",
       "    </tr>\n",
       "    <tr>\n",
       "      <th>51395</th>\n",
       "      <td>macropsychic</td>\n",
       "      <td>0.261617</td>\n",
       "    </tr>\n",
       "    <tr>\n",
       "      <th>52915</th>\n",
       "      <td>méav</td>\n",
       "      <td>0.265621</td>\n",
       "    </tr>\n",
       "    <tr>\n",
       "      <th>84332</th>\n",
       "      <td>kaylyn</td>\n",
       "      <td>0.271452</td>\n",
       "    </tr>\n",
       "    <tr>\n",
       "      <th>62745</th>\n",
       "      <td>peta</td>\n",
       "      <td>0.277420</td>\n",
       "    </tr>\n",
       "    <tr>\n",
       "      <th>88894</th>\n",
       "      <td>lesure</td>\n",
       "      <td>0.279498</td>\n",
       "    </tr>\n",
       "    <tr>\n",
       "      <th>53949</th>\n",
       "      <td>munns</td>\n",
       "      <td>0.294421</td>\n",
       "    </tr>\n",
       "    <tr>\n",
       "      <th>100554</th>\n",
       "      <td>radiumhemmet</td>\n",
       "      <td>0.302444</td>\n",
       "    </tr>\n",
       "    <tr>\n",
       "      <th>97680</th>\n",
       "      <td>stolberggedern</td>\n",
       "      <td>0.303810</td>\n",
       "    </tr>\n",
       "    <tr>\n",
       "      <th>52780</th>\n",
       "      <td>oppegard</td>\n",
       "      <td>0.303844</td>\n",
       "    </tr>\n",
       "    <tr>\n",
       "      <th>95896</th>\n",
       "      <td>holsteinoldenburg</td>\n",
       "      <td>0.304349</td>\n",
       "    </tr>\n",
       "    <tr>\n",
       "      <th>44363</th>\n",
       "      <td>leonia</td>\n",
       "      <td>0.305166</td>\n",
       "    </tr>\n",
       "  </tbody>\n",
       "</table>\n",
       "</div>"
      ],
      "text/plain": [
       "                    vocab     score\n",
       "88990             gülüstü  0.228330\n",
       "42606            rafferty  0.231426\n",
       "107980           chudinov  0.235383\n",
       "73675           fennville  0.236000\n",
       "45044               wiebe  0.242517\n",
       "53676            johnpaul  0.242753\n",
       "36835             caserta  0.255213\n",
       "76038              swaran  0.256366\n",
       "47244             cachaco  0.256549\n",
       "51395        macropsychic  0.261617\n",
       "52915                méav  0.265621\n",
       "84332              kaylyn  0.271452\n",
       "62745                peta  0.277420\n",
       "88894              lesure  0.279498\n",
       "53949               munns  0.294421\n",
       "100554       radiumhemmet  0.302444\n",
       "97680      stolberggedern  0.303810\n",
       "52780            oppegard  0.303844\n",
       "95896   holsteinoldenburg  0.304349\n",
       "44363              leonia  0.305166"
      ]
     },
     "execution_count": 17,
     "metadata": {},
     "output_type": "execute_result"
    }
   ],
   "source": [
    "vocab_df.sort_values(by=\"score\").tail(20)"
   ]
  },
  {
   "cell_type": "code",
   "execution_count": null,
   "metadata": {},
   "outputs": [],
   "source": []
  }
 ],
 "metadata": {
  "kernelspec": {
   "display_name": "Python 3.10.4 ('py-sparknlp')",
   "language": "python",
   "name": "python3"
  },
  "language_info": {
   "codemirror_mode": {
    "name": "ipython",
    "version": 3
   },
   "file_extension": ".py",
   "mimetype": "text/x-python",
   "name": "python",
   "nbconvert_exporter": "python",
   "pygments_lexer": "ipython3",
   "version": "3.10.4"
  },
  "orig_nbformat": 4,
  "vscode": {
   "interpreter": {
    "hash": "71e4c5c747264a447f1e078a58b82fc5cb2a4d310632066934fb8da9baa9b0b1"
   }
  }
 },
 "nbformat": 4,
 "nbformat_minor": 2
}
