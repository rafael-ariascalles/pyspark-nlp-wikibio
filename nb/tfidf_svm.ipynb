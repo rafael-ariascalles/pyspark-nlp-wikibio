{
 "cells": [
  {
   "cell_type": "code",
   "execution_count": 122,
   "metadata": {},
   "outputs": [],
   "source": [
    "from pyspark.sql import SparkSession\n",
    "from pyspark.sql import functions as F\n",
    "from pyspark.sql.types import *\n",
    "\n",
    "import pandas as pd\n",
    "import seaborn as sns\n",
    "import matplotlib.pyplot as plt\n",
    "import os\n",
    "\n",
    "\n",
    "from pyspark.ml.feature import CountVectorizer,HashingTF\n",
    "from pyspark.ml.feature import IDF\n",
    "from pyspark.ml import Pipeline\n",
    "from pyspark.ml.classification import LinearSVC,LogisticRegression\n",
    "from pyspark.ml.evaluation import BinaryClassificationEvaluator,MulticlassClassificationEvaluator\n",
    "#Spark version and Spark NLP version should be align"
   ]
  },
  {
   "cell_type": "code",
   "execution_count": 2,
   "metadata": {},
   "outputs": [
    {
     "name": "stderr",
     "output_type": "stream",
     "text": [
      "22/06/16 20:41:19 WARN Utils: Your hostname, winware resolves to a loopback address: 127.0.1.1; using 172.30.234.12 instead (on interface eth0)\n",
      "22/06/16 20:41:19 WARN Utils: Set SPARK_LOCAL_IP if you need to bind to another address\n",
      "WARNING: An illegal reflective access operation has occurred\n",
      "WARNING: Illegal reflective access by org.apache.spark.unsafe.Platform (file:/home/rjac/anaconda3/envs/py-sparknlp/lib/python3.10/site-packages/pyspark/jars/spark-unsafe_2.12-3.1.2.jar) to constructor java.nio.DirectByteBuffer(long,int)\n",
      "WARNING: Please consider reporting this to the maintainers of org.apache.spark.unsafe.Platform\n",
      "WARNING: Use --illegal-access=warn to enable warnings of further illegal reflective access operations\n",
      "WARNING: All illegal access operations will be denied in a future release\n",
      "22/06/16 20:41:21 WARN NativeCodeLoader: Unable to load native-hadoop library for your platform... using builtin-java classes where applicable\n",
      "Using Spark's default log4j profile: org/apache/spark/log4j-defaults.properties\n",
      "Setting default log level to \"WARN\".\n",
      "To adjust logging level use sc.setLogLevel(newLevel). For SparkR, use setLogLevel(newLevel).\n"
     ]
    }
   ],
   "source": [
    "spark = SparkSession.builder\\\n",
    "    .appName(\"nlp\")\\\n",
    "    .master(\"local[11]\")\\\n",
    "    .config(\"spark.driver.memory\",\"10G\")\\\n",
    "    .config(\"spark.driver.maxResultSize\", \"0\") \\\n",
    "    .config(\"spark.kryoserializer.buffer.max\", \"2000M\")\\\n",
    "    .getOrCreate()\n",
    "\n",
    "spark.sparkContext.setLogLevel(\"ERROR\")"
   ]
  },
  {
   "cell_type": "code",
   "execution_count": 78,
   "metadata": {},
   "outputs": [],
   "source": [
    "df = spark.read.parquet(\"data/\")"
   ]
  },
  {
   "cell_type": "code",
   "execution_count": 79,
   "metadata": {},
   "outputs": [
    {
     "name": "stdout",
     "output_type": "stream",
     "text": [
      "+--------------------+--------------------+------------------+\n",
      "|               value|          pos_tokens|            gender|\n",
      "+--------------------+--------------------+------------------+\n",
      "|he began his flig...|[begin, transitio...| 0.999500249875062|\n",
      "|he built and flew...|[build, fly, spec...| 0.999500249875062|\n",
      "|his aircraft cons...|[revolutionize, f...| 0.999000999000999|\n",
      "|the german pilot ...|[german, win, fly...| 0.999000999000999|\n",
      "|she was a member ...|[communist, name,...|-0.999500249875062|\n",
      "|she is best known...|     [know, british]|-0.999500249875062|\n",
      "|he currently work...|              [work]| 0.999000999000999|\n",
      "|he was recruited ...|[recruit, play, w...| 0.999666777740753|\n",
      "|on the back of th...|           [recruit]| 0.999000999000999|\n",
      "|starcevich made h...|  [starcevich, make]| 0.999000999000999|\n",
      "+--------------------+--------------------+------------------+\n",
      "only showing top 10 rows\n",
      "\n"
     ]
    }
   ],
   "source": [
    "df.show(10)"
   ]
  },
  {
   "cell_type": "code",
   "execution_count": 80,
   "metadata": {},
   "outputs": [],
   "source": [
    "df = df.withColumn(\"label\", (F.col(\"gender\")>0).cast(\"integer\"))"
   ]
  },
  {
   "cell_type": "code",
   "execution_count": null,
   "metadata": {},
   "outputs": [],
   "source": [
    "train, test = df.randomSplit([0.8, 0.2])"
   ]
  },
  {
   "cell_type": "code",
   "execution_count": 133,
   "metadata": {},
   "outputs": [
    {
     "name": "stderr",
     "output_type": "stream",
     "text": [
      "[Stage 3659:>                                                     (0 + 11) / 11]\r"
     ]
    },
    {
     "name": "stdout",
     "output_type": "stream",
     "text": [
      "Train 1043650 , Test 261077\n"
     ]
    },
    {
     "name": "stderr",
     "output_type": "stream",
     "text": [
      "                                                                                \r"
     ]
    }
   ],
   "source": [
    "print(f'Train {train.count()} , Test {test.count()}')"
   ]
  },
  {
   "cell_type": "code",
   "execution_count": 154,
   "metadata": {},
   "outputs": [
    {
     "name": "stderr",
     "output_type": "stream",
     "text": [
      "                                                                                \r"
     ]
    }
   ],
   "source": [
    "vectorize = CountVectorizer(vocabSize=10_000,minTF=0.03,maxDF=0.90).setInputCol(\"pos_tokens\").setOutputCol(\"TF\")\n",
    "tfidf = IDF().setInputCol(\"TF\").setOutputCol(\"features\")\n",
    "svm = LinearSVC()\n",
    "pipeline = Pipeline(stages=[vectorize,tfidf,svm])"
   ]
  },
  {
   "cell_type": "code",
   "execution_count": 141,
   "metadata": {},
   "outputs": [
    {
     "name": "stderr",
     "output_type": "stream",
     "text": [
      "                                                                                \r"
     ]
    }
   ],
   "source": [
    "model = pipeline.fit(train)\n",
    "result = model.transform(test)"
   ]
  },
  {
   "cell_type": "code",
   "execution_count": 146,
   "metadata": {},
   "outputs": [
    {
     "name": "stderr",
     "output_type": "stream",
     "text": [
      "                                                                                \r"
     ]
    },
    {
     "data": {
      "text/plain": [
       "prediction    1.0\n",
       "dtype: float64"
      ]
     },
     "execution_count": 146,
     "metadata": {},
     "output_type": "execute_result"
    }
   ],
   "source": [
    "result.select(\"prediction\").toPandas().mean()"
   ]
  },
  {
   "cell_type": "code",
   "execution_count": 174,
   "metadata": {},
   "outputs": [
    {
     "name": "stderr",
     "output_type": "stream",
     "text": [
      "                                                                                \r"
     ]
    },
    {
     "name": "stdout",
     "output_type": "stream",
     "text": [
      "0.7661864478953011\n"
     ]
    }
   ],
   "source": [
    "evaluator = MulticlassClassificationEvaluator(metricName=\"weightedFMeasure\")\n",
    "print(evaluator.evaluate(result))\n",
    "vectorizer = model.stages[0]\n",
    "_vocab = vectorizer.vocabulary\n",
    "_model = model.stages[-1]\n",
    "_betas = _model.coefficients\n",
    "vocab_df = pd.DataFrame({\"vocab\":_vocab,\"score\":_betas})\n",
    "vocab_df.shape\n",
    "vocab_df = vocab_df.sort_values(by=\"score\")"
   ]
  },
  {
   "cell_type": "code",
   "execution_count": 175,
   "metadata": {},
   "outputs": [
    {
     "name": "stderr",
     "output_type": "stream",
     "text": [
      "                                                                                \r"
     ]
    },
    {
     "data": {
      "text/plain": [
       "0.7661864478953011"
      ]
     },
     "execution_count": 175,
     "metadata": {},
     "output_type": "execute_result"
    }
   ],
   "source": [
    "from pyspark.ml.tuning import ParamGridBuilder, CrossValidator\n",
    "paramGrid = (ParamGridBuilder()\n",
    "             .addGrid(vectorize.minDF, [10_000])\n",
    "             .addGrid(svm.regParam, [0.01])\n",
    "             .build())\n",
    "cv = CrossValidator(estimator=pipeline, estimatorParamMaps=paramGrid, evaluator=evaluator, numFolds=5)\n",
    "cvModel = cv.fit(train)\n",
    "predictions = cvModel.transform(test)\n",
    "evaluator.evaluate(predictions)"
   ]
  },
  {
   "cell_type": "code",
   "execution_count": 167,
   "metadata": {},
   "outputs": [
    {
     "name": "stderr",
     "output_type": "stream",
     "text": [
      "[Stage 816591:===========================================>         (9 + 2) / 11]\r"
     ]
    },
    {
     "name": "stdout",
     "output_type": "stream",
     "text": [
      "0.788123849132682\n",
      "[CountVectorizerModel: uid=CountVectorizer_e5efb5612c55, vocabularySize=10000, IDFModel: uid=IDF_39a049c8a75e, numDocs=1043650, numFeatures=10000, LinearSVCModel: uid=LinearSVC_9e42cf496448, numClasses=2, numFeatures=10000]\n"
     ]
    },
    {
     "name": "stderr",
     "output_type": "stream",
     "text": [
      "                                                                                \r"
     ]
    }
   ],
   "source": [
    "evaluator = MulticlassClassificationEvaluator()\n",
    "print(evaluator.evaluate(predictions))\n",
    "\n",
    "\n",
    "pipeline_model = cvModel.bestModel\n",
    "\n",
    "print(pipeline_model.stages)\n",
    "vectorizer = pipeline_model.stages[0]\n",
    "_vocab = vectorizer.vocabulary\n",
    "_model = pipeline_model.stages[-1]\n",
    "_betas = _model.coefficients\n",
    "vocab_df = pd.DataFrame({\"vocab\":_vocab,\"score\":_betas})\n",
    "vocab_df.shape\n",
    "vocab_df = vocab_df.sort_values(by=\"score\")"
   ]
  },
  {
   "cell_type": "code",
   "execution_count": 172,
   "metadata": {},
   "outputs": [
    {
     "data": {
      "text/html": [
       "<div>\n",
       "<style scoped>\n",
       "    .dataframe tbody tr th:only-of-type {\n",
       "        vertical-align: middle;\n",
       "    }\n",
       "\n",
       "    .dataframe tbody tr th {\n",
       "        vertical-align: top;\n",
       "    }\n",
       "\n",
       "    .dataframe thead th {\n",
       "        text-align: right;\n",
       "    }\n",
       "</style>\n",
       "<table border=\"1\" class=\"dataframe\">\n",
       "  <thead>\n",
       "    <tr style=\"text-align: right;\">\n",
       "      <th></th>\n",
       "      <th>vocab</th>\n",
       "      <th>score</th>\n",
       "    </tr>\n",
       "  </thead>\n",
       "  <tbody>\n",
       "    <tr>\n",
       "      <th>367</th>\n",
       "      <td>female</td>\n",
       "      <td>-0.309803</td>\n",
       "    </tr>\n",
       "    <tr>\n",
       "      <th>563</th>\n",
       "      <td>daughter</td>\n",
       "      <td>-0.289785</td>\n",
       "    </tr>\n",
       "    <tr>\n",
       "      <th>747</th>\n",
       "      <td>peak</td>\n",
       "      <td>-0.273862</td>\n",
       "    </tr>\n",
       "    <tr>\n",
       "      <th>1089</th>\n",
       "      <td>sister</td>\n",
       "      <td>-0.257580</td>\n",
       "    </tr>\n",
       "    <tr>\n",
       "      <th>1105</th>\n",
       "      <td>universe</td>\n",
       "      <td>-0.255272</td>\n",
       "    </tr>\n",
       "    <tr>\n",
       "      <th>1293</th>\n",
       "      <td>itf</td>\n",
       "      <td>-0.249274</td>\n",
       "    </tr>\n",
       "    <tr>\n",
       "      <th>1314</th>\n",
       "      <td>woman</td>\n",
       "      <td>-0.249006</td>\n",
       "    </tr>\n",
       "    <tr>\n",
       "      <th>1433</th>\n",
       "      <td>model</td>\n",
       "      <td>-0.244861</td>\n",
       "    </tr>\n",
       "    <tr>\n",
       "      <th>1411</th>\n",
       "      <td>lesbian</td>\n",
       "      <td>-0.244041</td>\n",
       "    </tr>\n",
       "    <tr>\n",
       "      <th>1621</th>\n",
       "      <td>mother</td>\n",
       "      <td>-0.240923</td>\n",
       "    </tr>\n",
       "  </tbody>\n",
       "</table>\n",
       "</div>"
      ],
      "text/plain": [
       "         vocab     score\n",
       "367     female -0.309803\n",
       "563   daughter -0.289785\n",
       "747       peak -0.273862\n",
       "1089    sister -0.257580\n",
       "1105  universe -0.255272\n",
       "1293       itf -0.249274\n",
       "1314     woman -0.249006\n",
       "1433     model -0.244861\n",
       "1411   lesbian -0.244041\n",
       "1621    mother -0.240923"
      ]
     },
     "execution_count": 172,
     "metadata": {},
     "output_type": "execute_result"
    }
   ],
   "source": [
    "vocab_df.head(10)"
   ]
  },
  {
   "cell_type": "code",
   "execution_count": 171,
   "metadata": {},
   "outputs": [
    {
     "data": {
      "text/html": [
       "<div>\n",
       "<style scoped>\n",
       "    .dataframe tbody tr th:only-of-type {\n",
       "        vertical-align: middle;\n",
       "    }\n",
       "\n",
       "    .dataframe tbody tr th {\n",
       "        vertical-align: top;\n",
       "    }\n",
       "\n",
       "    .dataframe thead th {\n",
       "        text-align: right;\n",
       "    }\n",
       "</style>\n",
       "<table border=\"1\" class=\"dataframe\">\n",
       "  <thead>\n",
       "    <tr style=\"text-align: right;\">\n",
       "      <th></th>\n",
       "      <th>vocab</th>\n",
       "      <th>score</th>\n",
       "    </tr>\n",
       "  </thead>\n",
       "  <tbody>\n",
       "    <tr>\n",
       "      <th>5892</th>\n",
       "      <td>automated</td>\n",
       "      <td>0.193330</td>\n",
       "    </tr>\n",
       "    <tr>\n",
       "      <th>5887</th>\n",
       "      <td>countryman</td>\n",
       "      <td>0.194652</td>\n",
       "    </tr>\n",
       "    <tr>\n",
       "      <th>5599</th>\n",
       "      <td>nathaniel</td>\n",
       "      <td>0.195567</td>\n",
       "    </tr>\n",
       "    <tr>\n",
       "      <th>5088</th>\n",
       "      <td>slovenia</td>\n",
       "      <td>0.198976</td>\n",
       "    </tr>\n",
       "    <tr>\n",
       "      <th>4774</th>\n",
       "      <td>repatriate</td>\n",
       "      <td>0.201093</td>\n",
       "    </tr>\n",
       "    <tr>\n",
       "      <th>4529</th>\n",
       "      <td>greatgrandson</td>\n",
       "      <td>0.202268</td>\n",
       "    </tr>\n",
       "    <tr>\n",
       "      <th>5661</th>\n",
       "      <td>optimal</td>\n",
       "      <td>0.209567</td>\n",
       "    </tr>\n",
       "    <tr>\n",
       "      <th>3518</th>\n",
       "      <td>atp</td>\n",
       "      <td>0.211054</td>\n",
       "    </tr>\n",
       "    <tr>\n",
       "      <th>5771</th>\n",
       "      <td>trainer</td>\n",
       "      <td>0.241347</td>\n",
       "    </tr>\n",
       "    <tr>\n",
       "      <th>8223</th>\n",
       "      <td>munnetra</td>\n",
       "      <td>0.357580</td>\n",
       "    </tr>\n",
       "  </tbody>\n",
       "</table>\n",
       "</div>"
      ],
      "text/plain": [
       "              vocab     score\n",
       "5892      automated  0.193330\n",
       "5887     countryman  0.194652\n",
       "5599      nathaniel  0.195567\n",
       "5088       slovenia  0.198976\n",
       "4774     repatriate  0.201093\n",
       "4529  greatgrandson  0.202268\n",
       "5661        optimal  0.209567\n",
       "3518            atp  0.211054\n",
       "5771        trainer  0.241347\n",
       "8223       munnetra  0.357580"
      ]
     },
     "execution_count": 171,
     "metadata": {},
     "output_type": "execute_result"
    }
   ],
   "source": [
    "vocab_df.tail(10)"
   ]
  },
  {
   "cell_type": "code",
   "execution_count": null,
   "metadata": {},
   "outputs": [],
   "source": []
  }
 ],
 "metadata": {
  "kernelspec": {
   "display_name": "Python 3.10.4 ('hf')",
   "language": "python",
   "name": "python3"
  },
  "language_info": {
   "codemirror_mode": {
    "name": "ipython",
    "version": 3
   },
   "file_extension": ".py",
   "mimetype": "text/x-python",
   "name": "python",
   "nbconvert_exporter": "python",
   "pygments_lexer": "ipython3",
   "version": "3.10.4"
  },
  "orig_nbformat": 4,
  "vscode": {
   "interpreter": {
    "hash": "33f9b881109ba50917c17d7c2a2d48fac24154ac81d48631ebdd0193db1933f7"
   }
  }
 },
 "nbformat": 4,
 "nbformat_minor": 2
}
