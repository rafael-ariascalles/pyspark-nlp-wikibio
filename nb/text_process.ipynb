{
 "cells": [
  {
   "cell_type": "markdown",
   "metadata": {},
   "source": [
    "### Libraries"
   ]
  },
  {
   "cell_type": "code",
   "execution_count": 10,
   "metadata": {},
   "outputs": [],
   "source": [
    "from pyspark.sql import SparkSession\n",
    "from pyspark.sql import functions as F\n",
    "from pyspark.sql.types import *\n",
    "\n",
    "import pandas as pd\n",
    "import seaborn as sns\n",
    "import matplotlib.pyplot as plt\n",
    "\n",
    "#Spark version and Spark NLP version should be align"
   ]
  },
  {
   "cell_type": "code",
   "execution_count": 84,
   "metadata": {},
   "outputs": [],
   "source": [
    "from sparknlp.base import DocumentAssembler, Finisher, Pipeline\n",
    "from sparknlp.annotator import Lemmatizer, Stemmer, Tokenizer, Normalizer, StopWordsCleaner, PerceptronModel,LemmatizerModel\n",
    "from sparknlp.pretrained import PretrainedPipeline"
   ]
  },
  {
   "cell_type": "markdown",
   "metadata": {},
   "source": [
    "### Spark Session Builder"
   ]
  },
  {
   "cell_type": "code",
   "execution_count": 7,
   "metadata": {},
   "outputs": [],
   "source": [
    "spark = SparkSession.builder\\\n",
    "    .appName(\"nlp\")\\\n",
    "    .master(\"local[*]\")\\\n",
    "    .config(\"spark.driver.memory\",\"16G\")\\\n",
    "    .config(\"spark.driver.maxResultSize\", \"0\") \\\n",
    "    .config(\"spark.kryoserializer.buffer.max\", \"2000M\")\\\n",
    "    .config(\"spark.jars.packages\", \"com.johnsnowlabs.nlp:spark-nlp_2.12:3.4.4\")\\\n",
    "    .getOrCreate()\n",
    "\n",
    "spark.sparkContext.setLogLevel(\"WARN\")"
   ]
  },
  {
   "cell_type": "markdown",
   "metadata": {},
   "source": [
    "### Data Extraction"
   ]
  },
  {
   "cell_type": "code",
   "execution_count": 8,
   "metadata": {},
   "outputs": [],
   "source": [
    "path = \"/home/rjac/workspace/wikipedia-biography-dataset/wikipedia-biography-dataset/train/train.sent\"\n",
    "df = spark.read.text(path)"
   ]
  },
  {
   "cell_type": "code",
   "execution_count": 9,
   "metadata": {},
   "outputs": [
    {
     "name": "stdout",
     "output_type": "stream",
     "text": [
      "-RECORD 0---------------------------------------------------------------------------------------------------------------------------------------------------------------------------------------------------\n",
      " value | walter extra is a german award-winning aerobatic pilot , chief aircraft designer and founder of extra flugzeugbau -lrb- extra aircraft construction -rrb- , a manufacturer of aerobatic aircraft . \n",
      "-RECORD 1---------------------------------------------------------------------------------------------------------------------------------------------------------------------------------------------------\n",
      " value | extra was trained as a mechanical engineer .                                                                                                                                                       \n",
      "-RECORD 2---------------------------------------------------------------------------------------------------------------------------------------------------------------------------------------------------\n",
      " value | he began his flight training in gliders , transitioning to powered aircraft to perform aerobatics .                                                                                                \n",
      "-RECORD 3---------------------------------------------------------------------------------------------------------------------------------------------------------------------------------------------------\n",
      " value | he built and flew a pitts special aircraft and later built his own extra ea-230 .                                                                                                                  \n",
      "-RECORD 4---------------------------------------------------------------------------------------------------------------------------------------------------------------------------------------------------\n",
      " value | extra began designing aircraft after competing in the 1982 world aerobatic championships .                                                                                                         \n",
      "only showing top 5 rows\n",
      "\n"
     ]
    }
   ],
   "source": [
    "df.show(5,vertical=True,truncate=250)"
   ]
  },
  {
   "cell_type": "code",
   "execution_count": 52,
   "metadata": {},
   "outputs": [],
   "source": [
    "from pyspark.ml.feature import StopWordsRemover"
   ]
  },
  {
   "cell_type": "code",
   "execution_count": 58,
   "metadata": {},
   "outputs": [],
   "source": [
    "stopwords = StopWordsRemover().getStopWords()"
   ]
  },
  {
   "cell_type": "code",
   "execution_count": 64,
   "metadata": {},
   "outputs": [],
   "source": [
    "exclude = [\"i\",\"he\",\"him\",\"his\",\"himself\",\"she\",\"her\",\"hers\",\"herself\",'they','them', 'their','theirs','themselves',\"she's\",\"he's\"]"
   ]
  },
  {
   "cell_type": "code",
   "execution_count": 65,
   "metadata": {},
   "outputs": [],
   "source": [
    "stopwords = [w for w in stopwords if w not in exclude]"
   ]
  },
  {
   "cell_type": "markdown",
   "metadata": {},
   "source": [
    "### Data Processing"
   ]
  },
  {
   "cell_type": "code",
   "execution_count": 139,
   "metadata": {},
   "outputs": [
    {
     "name": "stdout",
     "output_type": "stream",
     "text": [
      "lemma_antbnc download started this may take some time.\n",
      "Approximate size to download 907.6 KB\n",
      "[OK!]\n",
      "pos_anc download started this may take some time.\n",
      "Approximate size to download 3.9 MB\n",
      "[OK!]\n"
     ]
    }
   ],
   "source": [
    "document_assambler = DocumentAssembler().setInputCol(\"value\").setOutputCol(\"document\").setCleanupMode(\"shrink\")\n",
    "tokenizer = Tokenizer().setInputCols([\"document\"]).setOutputCol(\"token\")\n",
    "\n",
    "#output1\n",
    "normalizer = Normalizer().setInputCols([\"token\"]).setOutputCol(\"normalized\").setLowercase(True)\n",
    "stopword_cleaner = StopWordsCleaner().setInputCols([\"normalized\"]).setOutputCol(\"cleanTokens\").setCaseSensitive(False).setStopWords(stopwords)\n",
    "lemmatizer = LemmatizerModel.pretrained().setInputCols([\"cleanTokens\"]).setOutputCol(\"lemma\")\n",
    "\n",
    "#output2\n",
    "pos_tagger = PerceptronModel().pretrained(\"pos_anc\", 'en').setInputCols([\"document\",\"cleanTokens\"]).setOutputCol(\"pos\")\n",
    "\n",
    "#Result\n",
    "finisher = Finisher().setInputCols([\"lemma\",\"pos\"]).setOutputCols([\"tokens\",\"pos\"]).setOutputAsArray(True).setCleanAnnotations(False)"
   ]
  },
  {
   "cell_type": "code",
   "execution_count": 140,
   "metadata": {},
   "outputs": [],
   "source": [
    "nlp_pipeline = Pipeline(stages=[\n",
    "    document_assambler\n",
    "    ,tokenizer\n",
    "    ,normalizer\n",
    "    ,stopword_cleaner\n",
    "    ,lemmatizer\n",
    "    ,pos_tagger\n",
    "    ,finisher]\n",
    ")"
   ]
  },
  {
   "cell_type": "code",
   "execution_count": 141,
   "metadata": {},
   "outputs": [],
   "source": [
    "nlp_model = nlp_pipeline.fit(df)"
   ]
  },
  {
   "cell_type": "code",
   "execution_count": 142,
   "metadata": {},
   "outputs": [],
   "source": [
    "processed_df  = nlp_model.transform(df)"
   ]
  },
  {
   "cell_type": "code",
   "execution_count": 143,
   "metadata": {},
   "outputs": [
    {
     "name": "stdout",
     "output_type": "stream",
     "text": [
      "root\n",
      " |-- value: string (nullable = true)\n",
      " |-- document: array (nullable = true)\n",
      " |    |-- element: struct (containsNull = true)\n",
      " |    |    |-- annotatorType: string (nullable = true)\n",
      " |    |    |-- begin: integer (nullable = false)\n",
      " |    |    |-- end: integer (nullable = false)\n",
      " |    |    |-- result: string (nullable = true)\n",
      " |    |    |-- metadata: map (nullable = true)\n",
      " |    |    |    |-- key: string\n",
      " |    |    |    |-- value: string (valueContainsNull = true)\n",
      " |    |    |-- embeddings: array (nullable = true)\n",
      " |    |    |    |-- element: float (containsNull = false)\n",
      " |-- token: array (nullable = true)\n",
      " |    |-- element: struct (containsNull = true)\n",
      " |    |    |-- annotatorType: string (nullable = true)\n",
      " |    |    |-- begin: integer (nullable = false)\n",
      " |    |    |-- end: integer (nullable = false)\n",
      " |    |    |-- result: string (nullable = true)\n",
      " |    |    |-- metadata: map (nullable = true)\n",
      " |    |    |    |-- key: string\n",
      " |    |    |    |-- value: string (valueContainsNull = true)\n",
      " |    |    |-- embeddings: array (nullable = true)\n",
      " |    |    |    |-- element: float (containsNull = false)\n",
      " |-- normalized: array (nullable = true)\n",
      " |    |-- element: struct (containsNull = true)\n",
      " |    |    |-- annotatorType: string (nullable = true)\n",
      " |    |    |-- begin: integer (nullable = false)\n",
      " |    |    |-- end: integer (nullable = false)\n",
      " |    |    |-- result: string (nullable = true)\n",
      " |    |    |-- metadata: map (nullable = true)\n",
      " |    |    |    |-- key: string\n",
      " |    |    |    |-- value: string (valueContainsNull = true)\n",
      " |    |    |-- embeddings: array (nullable = true)\n",
      " |    |    |    |-- element: float (containsNull = false)\n",
      " |-- cleanTokens: array (nullable = true)\n",
      " |    |-- element: struct (containsNull = true)\n",
      " |    |    |-- annotatorType: string (nullable = true)\n",
      " |    |    |-- begin: integer (nullable = false)\n",
      " |    |    |-- end: integer (nullable = false)\n",
      " |    |    |-- result: string (nullable = true)\n",
      " |    |    |-- metadata: map (nullable = true)\n",
      " |    |    |    |-- key: string\n",
      " |    |    |    |-- value: string (valueContainsNull = true)\n",
      " |    |    |-- embeddings: array (nullable = true)\n",
      " |    |    |    |-- element: float (containsNull = false)\n",
      " |-- lemma: array (nullable = true)\n",
      " |    |-- element: struct (containsNull = true)\n",
      " |    |    |-- annotatorType: string (nullable = true)\n",
      " |    |    |-- begin: integer (nullable = false)\n",
      " |    |    |-- end: integer (nullable = false)\n",
      " |    |    |-- result: string (nullable = true)\n",
      " |    |    |-- metadata: map (nullable = true)\n",
      " |    |    |    |-- key: string\n",
      " |    |    |    |-- value: string (valueContainsNull = true)\n",
      " |    |    |-- embeddings: array (nullable = true)\n",
      " |    |    |    |-- element: float (containsNull = false)\n",
      " |-- pos: array (nullable = true)\n",
      " |    |-- element: string (containsNull = true)\n",
      " |-- tokens: array (nullable = true)\n",
      " |    |-- element: string (containsNull = true)\n",
      "\n"
     ]
    }
   ],
   "source": [
    "processed_df.printSchema()"
   ]
  },
  {
   "cell_type": "code",
   "execution_count": 144,
   "metadata": {},
   "outputs": [],
   "source": [
    "#docs = pipeline.annotate(df,\"value\")"
   ]
  },
  {
   "cell_type": "code",
   "execution_count": 145,
   "metadata": {},
   "outputs": [],
   "source": [
    "#docs.printSchema()"
   ]
  },
  {
   "cell_type": "code",
   "execution_count": 146,
   "metadata": {},
   "outputs": [],
   "source": [
    "#extractor = Finisher()"
   ]
  },
  {
   "cell_type": "code",
   "execution_count": 147,
   "metadata": {},
   "outputs": [],
   "source": [
    "#extractor = extractor.setInputCols([\"spell\",\"pos\"])\n",
    "#extractor = extractor.setOutputAsArray(True)"
   ]
  },
  {
   "cell_type": "code",
   "execution_count": 148,
   "metadata": {},
   "outputs": [],
   "source": [
    "#preproceed_df = extractor.transform(docs)"
   ]
  },
  {
   "cell_type": "code",
   "execution_count": 149,
   "metadata": {},
   "outputs": [],
   "source": [
    "tokens = processed_df.select(\"value\",\"tokens\",\"pos\")"
   ]
  },
  {
   "cell_type": "code",
   "execution_count": 150,
   "metadata": {},
   "outputs": [
    {
     "name": "stdout",
     "output_type": "stream",
     "text": [
      "-RECORD 0--------------------------------------------------------------------------------------------------------------------------------------------------------\n",
      " value  | walter extra is a german award-winning aerobatic pilot , chief aircraft designer and founder of extra flugzeugbau -lrb- extra aircraft construction... \n",
      " tokens | [walter, extra, german, awardwinning, aerobatic, pilot, chief, aircraft, designer, founder, extra, flugzeugbau, lrb, extra, aircraft, construction,... \n",
      " pos    | [NN, JJ, NN, VBG, JJ, NN, JJ, NN, NN, NN, JJ, NN, NN, NN, NN, NN, NN, NN, JJ, NN]                                                                      \n",
      "-RECORD 1--------------------------------------------------------------------------------------------------------------------------------------------------------\n",
      " value  | extra was trained as a mechanical engineer .                                                                                                           \n",
      " tokens | [extra, train, mechanical, engineer]                                                                                                                   \n",
      " pos    | [NN, VBN, JJ, NN]                                                                                                                                      \n",
      "-RECORD 2--------------------------------------------------------------------------------------------------------------------------------------------------------\n",
      " value  | he began his flight training in gliders , transitioning to powered aircraft to perform aerobatics .                                                    \n",
      " tokens | [he, begin, he, flight, training, glider, transition, power, aircraft, perform, aerobatic]                                                             \n",
      " pos    | [PRP, VBD, PRP$, NN, NN, NNS, VBG, VBN, NN, NN, NNS]                                                                                                   \n",
      "-RECORD 3--------------------------------------------------------------------------------------------------------------------------------------------------------\n",
      " value  | he built and flew a pitts special aircraft and later built his own extra ea-230 .                                                                      \n",
      " tokens | [he, build, fly, pitts, special, aircraft, late, build, he, extra, ea]                                                                                 \n",
      " pos    | [PRP, VBD, JJ, NN, JJ, NN, RB, VBD, PRP$, JJ, NN]                                                                                                      \n",
      "-RECORD 4--------------------------------------------------------------------------------------------------------------------------------------------------------\n",
      " value  | extra began designing aircraft after competing in the 1982 world aerobatic championships .                                                             \n",
      " tokens | [extra, begin, design, aircraft, compete, world, aerobatic, championship]                                                                              \n",
      " pos    | [NN, VBD, VBG, NN, VBG, NN, JJ, NNS]                                                                                                                   \n",
      "only showing top 5 rows\n",
      "\n"
     ]
    }
   ],
   "source": [
    "tokens.show(5,vertical=True,truncate=150)"
   ]
  },
  {
   "cell_type": "code",
   "execution_count": 156,
   "metadata": {},
   "outputs": [
    {
     "name": "stdout",
     "output_type": "stream",
     "text": [
      "+--------------------+--------------------+--------------------+---+--------------------+\n",
      "|               value|              tokens|                 pos| he|               nouns|\n",
      "+--------------------+--------------------+--------------------+---+--------------------+\n",
      "|walter extra is a...|[walter, extra, g...|[NN, JJ, NN, VBG,...|  0|[extra, awardwinn...|\n",
      "|extra was trained...|[extra, train, me...|   [NN, VBN, JJ, NN]|  0|        [mechanical]|\n",
      "|he began his flig...|[he, begin, he, f...|[PRP, VBD, PRP$, ...|  2|        [transition]|\n",
      "|he built and flew...|[he, build, fly, ...|[PRP, VBD, JJ, NN...|  2|[fly, special, ex...|\n",
      "|extra began desig...|[extra, begin, de...|[NN, VBD, VBG, NN...|  0|[design, compete,...|\n",
      "|his aircraft cons...|[he, aircraft, co...|[PRP$, NN, NNS, J...|  1|[revolutionize, f...|\n",
      "|the german pilot ...|[german, pilot, k...|[JJ, NN, NN, NN, ...|  1|[german, fly, extra]|\n",
      "|walter extra has ...|[walter, extra, d...|[NN, NNS, VBN, NN...|  0|[unlimited, aerob...|\n",
      "|aaron hohlbein -l...|[aaron, hohlbein,...|[NN, NN, NN, VBN,...|  0|          [american]|\n",
      "|majda vrhovnik -l...|[majda, vrhovnik,...|[NN, NN, NN, NN, ...|  0|  [slovene, medical]|\n",
      "|she was a member ...|[she, member, dis...|[PRP, NN, NN, NN,...|  0|                  []|\n",
      "|linda hayden -lrb...|[linda, hayden, l...|[NN, NN, NN, VBN,...|  0|                  []|\n",
      "|she is best known...|[she, good, know,...|[PRP, JJS, VBN, P...|  0|           [british]|\n",
      "|craig starcevich ...|[craig, starcevic...|[NN, NN, NN, VBN,...|  0|            [former]|\n",
      "|he currently work...|[he, currently, w...|[PRP, RB, VBZ, JJ...|  1|           [fitness]|\n",
      "|he was recruited ...|[he, recruit, eas...|[PRP, VBD, JJ, NN...|  3|              [east]|\n",
      "|on the back of th...|[back, he, recrui...|[RB, PRP, JJ, NN,...|  1|           [recruit]|\n",
      "|starcevich made h...|[starcevich, make...|[NN, VBD, PRP$, N...|  1|                  []|\n",
      "|the key position ...|[key, position, p...|[JJ, NN, NN, VBD,...|  0|[key, solid, gran...|\n",
      "|he played 124 gam...|[he, play, game, ...|[PRP, VBD, NNS, V...|  1|        [kick, move]|\n",
      "+--------------------+--------------------+--------------------+---+--------------------+\n",
      "only showing top 20 rows\n",
      "\n"
     ]
    }
   ],
   "source": [
    "df1 = tokens.selectExpr('*',\"size(filter(tokens, x -> x='he')) as he\")\n",
    "df2 = df1.selectExpr('*', \"filter(arrays_zip(tokens,pos), x -> x.pos in ('VBG','JJ') ).tokens as nouns\")\n",
    "df2.show()"
   ]
  },
  {
   "cell_type": "code",
   "execution_count": null,
   "metadata": {},
   "outputs": [],
   "source": []
  }
 ],
 "metadata": {
  "interpreter": {
   "hash": "71e4c5c747264a447f1e078a58b82fc5cb2a4d310632066934fb8da9baa9b0b1"
  },
  "kernelspec": {
   "display_name": "Python 3.10.4 ('py-sparknlp')",
   "language": "python",
   "name": "python3"
  },
  "language_info": {
   "codemirror_mode": {
    "name": "ipython",
    "version": 3
   },
   "file_extension": ".py",
   "mimetype": "text/x-python",
   "name": "python",
   "nbconvert_exporter": "python",
   "pygments_lexer": "ipython3",
   "version": "3.10.4"
  },
  "orig_nbformat": 4
 },
 "nbformat": 4,
 "nbformat_minor": 2
}
