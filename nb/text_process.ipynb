{
 "cells": [
  {
   "cell_type": "markdown",
   "metadata": {},
   "source": [
    "### Libraries"
   ]
  },
  {
   "cell_type": "code",
   "execution_count": 1,
   "metadata": {},
   "outputs": [],
   "source": [
    "from pyspark.sql import SparkSession\n",
    "from pyspark.sql import functions as F\n",
    "from pyspark.sql.types import *\n",
    "\n",
    "import pandas as pd\n",
    "import seaborn as sns\n",
    "import matplotlib.pyplot as plt\n",
    "import os\n",
    "\n",
    "#Spark version and Spark NLP version should be align"
   ]
  },
  {
   "cell_type": "code",
   "execution_count": 2,
   "metadata": {},
   "outputs": [],
   "source": [
    "from sparknlp.base import DocumentAssembler, Finisher, Pipeline\n",
    "from sparknlp.annotator import Tokenizer, Normalizer, StopWordsCleaner, PerceptronModel,LemmatizerModel,BertEmbeddings,NerDLModel,WordEmbeddingsModel\n",
    "#from sparknlp.pretrained import PretrainedPipeline\n",
    "from pyspark.ml.feature import StopWordsRemover"
   ]
  },
  {
   "cell_type": "markdown",
   "metadata": {},
   "source": [
    "### Spark Session Builder"
   ]
  },
  {
   "cell_type": "code",
   "execution_count": 3,
   "metadata": {},
   "outputs": [
    {
     "name": "stderr",
     "output_type": "stream",
     "text": [
      "22/06/16 16:09:10 WARN Utils: Your hostname, winware resolves to a loopback address: 127.0.1.1; using 172.30.234.12 instead (on interface eth0)\n",
      "22/06/16 16:09:10 WARN Utils: Set SPARK_LOCAL_IP if you need to bind to another address\n",
      "WARNING: An illegal reflective access operation has occurred\n",
      "WARNING: Illegal reflective access by org.apache.spark.unsafe.Platform (file:/home/rjac/anaconda3/envs/py-sparknlp/lib/python3.10/site-packages/pyspark/jars/spark-unsafe_2.12-3.1.2.jar) to constructor java.nio.DirectByteBuffer(long,int)\n",
      "WARNING: Please consider reporting this to the maintainers of org.apache.spark.unsafe.Platform\n",
      "WARNING: Use --illegal-access=warn to enable warnings of further illegal reflective access operations\n",
      "WARNING: All illegal access operations will be denied in a future release\n"
     ]
    },
    {
     "name": "stdout",
     "output_type": "stream",
     "text": [
      ":: loading settings :: url = jar:file:/home/rjac/anaconda3/envs/py-sparknlp/lib/python3.10/site-packages/pyspark/jars/ivy-2.4.0.jar!/org/apache/ivy/core/settings/ivysettings.xml\n"
     ]
    },
    {
     "name": "stderr",
     "output_type": "stream",
     "text": [
      "Ivy Default Cache set to: /home/rjac/.ivy2/cache\n",
      "The jars for the packages stored in: /home/rjac/.ivy2/jars\n",
      "com.johnsnowlabs.nlp#spark-nlp_2.12 added as a dependency\n",
      ":: resolving dependencies :: org.apache.spark#spark-submit-parent-8f989948-d6f9-422b-8eb0-7f2d27520bc3;1.0\n",
      "\tconfs: [default]\n",
      "\tfound com.johnsnowlabs.nlp#spark-nlp_2.12;3.4.4 in central\n",
      "\tfound com.typesafe#config;1.4.2 in central\n",
      "\tfound org.rocksdb#rocksdbjni;6.5.3 in central\n",
      "\tfound com.amazonaws#aws-java-sdk-bundle;1.11.603 in central\n",
      "\tfound com.github.universal-automata#liblevenshtein;3.0.0 in central\n",
      "\tfound com.google.code.findbugs#annotations;3.0.1 in central\n",
      "\tfound net.jcip#jcip-annotations;1.0 in central\n",
      "\tfound com.google.code.findbugs#jsr305;3.0.1 in central\n",
      "\tfound com.google.protobuf#protobuf-java-util;3.0.0-beta-3 in central\n",
      "\tfound com.google.protobuf#protobuf-java;3.0.0-beta-3 in central\n",
      "\tfound com.google.code.gson#gson;2.3 in central\n",
      "\tfound it.unimi.dsi#fastutil;7.0.12 in central\n",
      "\tfound org.projectlombok#lombok;1.16.8 in central\n",
      "\tfound org.slf4j#slf4j-api;1.7.21 in central\n",
      "\tfound com.navigamez#greex;1.0 in central\n",
      "\tfound dk.brics.automaton#automaton;1.11-8 in central\n",
      "\tfound org.json4s#json4s-ext_2.12;3.5.3 in central\n",
      "\tfound joda-time#joda-time;2.9.5 in central\n",
      "\tfound org.joda#joda-convert;1.8.1 in central\n",
      "\tfound com.johnsnowlabs.nlp#tensorflow-cpu_2.12;0.3.3 in central\n",
      ":: resolution report :: resolve 745ms :: artifacts dl 78ms\n",
      "\t:: modules in use:\n",
      "\tcom.amazonaws#aws-java-sdk-bundle;1.11.603 from central in [default]\n",
      "\tcom.github.universal-automata#liblevenshtein;3.0.0 from central in [default]\n",
      "\tcom.google.code.findbugs#annotations;3.0.1 from central in [default]\n",
      "\tcom.google.code.findbugs#jsr305;3.0.1 from central in [default]\n",
      "\tcom.google.code.gson#gson;2.3 from central in [default]\n",
      "\tcom.google.protobuf#protobuf-java;3.0.0-beta-3 from central in [default]\n",
      "\tcom.google.protobuf#protobuf-java-util;3.0.0-beta-3 from central in [default]\n",
      "\tcom.johnsnowlabs.nlp#spark-nlp_2.12;3.4.4 from central in [default]\n",
      "\tcom.johnsnowlabs.nlp#tensorflow-cpu_2.12;0.3.3 from central in [default]\n",
      "\tcom.navigamez#greex;1.0 from central in [default]\n",
      "\tcom.typesafe#config;1.4.2 from central in [default]\n",
      "\tdk.brics.automaton#automaton;1.11-8 from central in [default]\n",
      "\tit.unimi.dsi#fastutil;7.0.12 from central in [default]\n",
      "\tjoda-time#joda-time;2.9.5 from central in [default]\n",
      "\tnet.jcip#jcip-annotations;1.0 from central in [default]\n",
      "\torg.joda#joda-convert;1.8.1 from central in [default]\n",
      "\torg.json4s#json4s-ext_2.12;3.5.3 from central in [default]\n",
      "\torg.projectlombok#lombok;1.16.8 from central in [default]\n",
      "\torg.rocksdb#rocksdbjni;6.5.3 from central in [default]\n",
      "\torg.slf4j#slf4j-api;1.7.21 from central in [default]\n",
      "\t---------------------------------------------------------------------\n",
      "\t|                  |            modules            ||   artifacts   |\n",
      "\t|       conf       | number| search|dwnlded|evicted|| number|dwnlded|\n",
      "\t---------------------------------------------------------------------\n",
      "\t|      default     |   20  |   0   |   0   |   0   ||   20  |   0   |\n",
      "\t---------------------------------------------------------------------\n",
      ":: retrieving :: org.apache.spark#spark-submit-parent-8f989948-d6f9-422b-8eb0-7f2d27520bc3\n",
      "\tconfs: [default]\n",
      "\t0 artifacts copied, 20 already retrieved (0kB/15ms)\n",
      "22/06/16 16:09:12 WARN NativeCodeLoader: Unable to load native-hadoop library for your platform... using builtin-java classes where applicable\n",
      "Using Spark's default log4j profile: org/apache/spark/log4j-defaults.properties\n",
      "Setting default log level to \"WARN\".\n",
      "To adjust logging level use sc.setLogLevel(newLevel). For SparkR, use setLogLevel(newLevel).\n"
     ]
    }
   ],
   "source": [
    "spark = SparkSession.builder\\\n",
    "    .appName(\"nlp\")\\\n",
    "    .master(\"local[11]\")\\\n",
    "    .config(\"spark.driver.memory\",\"10G\")\\\n",
    "    .config(\"spark.driver.maxResultSize\", \"0\") \\\n",
    "    .config(\"spark.kryoserializer.buffer.max\", \"2000M\")\\\n",
    "    .config(\"spark.jars.packages\", \"com.johnsnowlabs.nlp:spark-nlp_2.12:3.4.4\")\\\n",
    "    .getOrCreate()\n",
    "\n",
    "spark.sparkContext.setLogLevel(\"WARN\")"
   ]
  },
  {
   "cell_type": "markdown",
   "metadata": {},
   "source": [
    "### Data Extraction"
   ]
  },
  {
   "cell_type": "code",
   "execution_count": 4,
   "metadata": {},
   "outputs": [],
   "source": [
    "path = os.getenv(\"DATA_PATH\")\n",
    "df = spark.read.text(path)"
   ]
  },
  {
   "cell_type": "code",
   "execution_count": 5,
   "metadata": {},
   "outputs": [
    {
     "name": "stdout",
     "output_type": "stream",
     "text": [
      "-RECORD 0---------------------------------------------------------------------------------------------------------------------------------------------------------------------------------------------------\n",
      " value | walter extra is a german award-winning aerobatic pilot , chief aircraft designer and founder of extra flugzeugbau -lrb- extra aircraft construction -rrb- , a manufacturer of aerobatic aircraft . \n",
      "-RECORD 1---------------------------------------------------------------------------------------------------------------------------------------------------------------------------------------------------\n",
      " value | extra was trained as a mechanical engineer .                                                                                                                                                       \n",
      "-RECORD 2---------------------------------------------------------------------------------------------------------------------------------------------------------------------------------------------------\n",
      " value | he began his flight training in gliders , transitioning to powered aircraft to perform aerobatics .                                                                                                \n",
      "-RECORD 3---------------------------------------------------------------------------------------------------------------------------------------------------------------------------------------------------\n",
      " value | he built and flew a pitts special aircraft and later built his own extra ea-230 .                                                                                                                  \n",
      "-RECORD 4---------------------------------------------------------------------------------------------------------------------------------------------------------------------------------------------------\n",
      " value | extra began designing aircraft after competing in the 1982 world aerobatic championships .                                                                                                         \n",
      "only showing top 5 rows\n",
      "\n"
     ]
    },
    {
     "name": "stderr",
     "output_type": "stream",
     "text": [
      "                                                                                \r"
     ]
    }
   ],
   "source": [
    "df.show(5,vertical=True,truncate=250)"
   ]
  },
  {
   "cell_type": "code",
   "execution_count": 6,
   "metadata": {},
   "outputs": [],
   "source": [
    "#df = df.selectExpr('*','initCap(value) as cap')"
   ]
  },
  {
   "cell_type": "code",
   "execution_count": 7,
   "metadata": {},
   "outputs": [],
   "source": [
    "exclude = [\"i\",\"he\",\"him\",\"his\",\"himself\",\"she\",\"her\",\"hers\",\"herself\",'they','them', 'their','theirs','themselves',\"she's\",\"he's\"]\n",
    "stopwords = [w for w in StopWordsRemover().getStopWords() if w not in exclude]"
   ]
  },
  {
   "cell_type": "markdown",
   "metadata": {},
   "source": [
    "### Data Processing"
   ]
  },
  {
   "cell_type": "code",
   "execution_count": 8,
   "metadata": {},
   "outputs": [],
   "source": [
    "document_assambler = DocumentAssembler().setInputCol(\"value\").setOutputCol(\"document\").setCleanupMode(\"shrink\")\n",
    "tokenizer = Tokenizer().setInputCols([\"document\"]).setOutputCol(\"token\")"
   ]
  },
  {
   "cell_type": "code",
   "execution_count": 9,
   "metadata": {},
   "outputs": [
    {
     "name": "stdout",
     "output_type": "stream",
     "text": [
      "pos_ud_ewt download started this may take some time.\n",
      "Approximate size to download 2.2 MB\n",
      "[ | ]pos_ud_ewt download started this may take some time.\n",
      "Approximate size to download 2.2 MB\n",
      "[ / ]Download done! Loading the resource.\n"
     ]
    },
    {
     "name": "stderr",
     "output_type": "stream",
     "text": [
      "[Stage 3:============================================>              (3 + 1) / 4]\r"
     ]
    },
    {
     "name": "stdout",
     "output_type": "stream",
     "text": [
      "[ — ]"
     ]
    },
    {
     "name": "stderr",
     "output_type": "stream",
     "text": [
      "                                                                                \r"
     ]
    },
    {
     "name": "stdout",
     "output_type": "stream",
     "text": [
      "[OK!]\n",
      "lemma_antbnc download started this may take some time.\n",
      "Approximate size to download 907.6 KB\n",
      "[ | ]lemma_antbnc download started this may take some time.\n",
      "Approximate size to download 907.6 KB\n",
      "[ / ]Download done! Loading the resource.\n",
      "[OK!]\n"
     ]
    }
   ],
   "source": [
    "#output1\n",
    "#normalizer = Normalizer().setInputCols([\"token\"]).setOutputCol(\"normalized\").setLowercase(True)\n",
    "stopword_cleaner = StopWordsCleaner().setInputCols([\"token\"]).setOutputCol(\"cleanTokens\").setCaseSensitive(False).setStopWords(stopwords)\n",
    "normalizer = Normalizer().setInputCols([\"cleanTokens\"]).setOutputCol(\"normalized\").setLowercase(True)\n",
    "pos_tagger = PerceptronModel().pretrained(\"pos_ud_ewt\", 'en').setInputCols([\"document\",\"normalized\"]).setOutputCol(\"pos\")\n",
    "lemmatizer = LemmatizerModel.pretrained().setInputCols([\"normalized\"]).setOutputCol(\"lemma\")"
   ]
  },
  {
   "cell_type": "code",
   "execution_count": 10,
   "metadata": {},
   "outputs": [],
   "source": [
    "#output2\n",
    "#pos_tagger = PerceptronModel().pretrained(\"pos_ud_ewt\", 'en').setInputCols([\"document\",\"token\"]).setOutputCol(\"pos\")"
   ]
  },
  {
   "cell_type": "code",
   "execution_count": 11,
   "metadata": {},
   "outputs": [],
   "source": [
    "\n",
    "#output3\n",
    "#embeddings = WordEmbeddingsModel().pretrained().setInputCols(\"document\", \"cleanTokens\").setOutputCol(\"embeddings\")\n",
    "#ner_model = NerDLModel.pretrained().setInputCols([\"document\", \"cleanTokens\", \"embeddings\"]).setOutputCol(\"ner\")"
   ]
  },
  {
   "cell_type": "code",
   "execution_count": 12,
   "metadata": {},
   "outputs": [],
   "source": [
    "#Result\n",
    "finisher = Finisher().setInputCols([\"lemma\",\"pos\"]).setOutputCols([\"tokens\",\"pos\"]).setOutputAsArray(True).setCleanAnnotations(False)"
   ]
  },
  {
   "cell_type": "code",
   "execution_count": 13,
   "metadata": {},
   "outputs": [],
   "source": [
    "nlp_pipeline = Pipeline(stages=[\n",
    "    document_assambler\n",
    "    ,tokenizer\n",
    "    ,stopword_cleaner\n",
    "    ,normalizer\n",
    "    ,pos_tagger\n",
    "    ,lemmatizer\n",
    "    ,finisher\n",
    "    ]\n",
    ")"
   ]
  },
  {
   "cell_type": "code",
   "execution_count": 14,
   "metadata": {},
   "outputs": [],
   "source": [
    "nlp_model = nlp_pipeline.fit(df)"
   ]
  },
  {
   "cell_type": "code",
   "execution_count": 15,
   "metadata": {},
   "outputs": [],
   "source": [
    "processed_df  = nlp_model.transform(df)"
   ]
  },
  {
   "cell_type": "code",
   "execution_count": 16,
   "metadata": {},
   "outputs": [
    {
     "name": "stdout",
     "output_type": "stream",
     "text": [
      "root\n",
      " |-- value: string (nullable = true)\n",
      " |-- document: array (nullable = true)\n",
      " |    |-- element: struct (containsNull = true)\n",
      " |    |    |-- annotatorType: string (nullable = true)\n",
      " |    |    |-- begin: integer (nullable = false)\n",
      " |    |    |-- end: integer (nullable = false)\n",
      " |    |    |-- result: string (nullable = true)\n",
      " |    |    |-- metadata: map (nullable = true)\n",
      " |    |    |    |-- key: string\n",
      " |    |    |    |-- value: string (valueContainsNull = true)\n",
      " |    |    |-- embeddings: array (nullable = true)\n",
      " |    |    |    |-- element: float (containsNull = false)\n",
      " |-- token: array (nullable = true)\n",
      " |    |-- element: struct (containsNull = true)\n",
      " |    |    |-- annotatorType: string (nullable = true)\n",
      " |    |    |-- begin: integer (nullable = false)\n",
      " |    |    |-- end: integer (nullable = false)\n",
      " |    |    |-- result: string (nullable = true)\n",
      " |    |    |-- metadata: map (nullable = true)\n",
      " |    |    |    |-- key: string\n",
      " |    |    |    |-- value: string (valueContainsNull = true)\n",
      " |    |    |-- embeddings: array (nullable = true)\n",
      " |    |    |    |-- element: float (containsNull = false)\n",
      " |-- cleanTokens: array (nullable = true)\n",
      " |    |-- element: struct (containsNull = true)\n",
      " |    |    |-- annotatorType: string (nullable = true)\n",
      " |    |    |-- begin: integer (nullable = false)\n",
      " |    |    |-- end: integer (nullable = false)\n",
      " |    |    |-- result: string (nullable = true)\n",
      " |    |    |-- metadata: map (nullable = true)\n",
      " |    |    |    |-- key: string\n",
      " |    |    |    |-- value: string (valueContainsNull = true)\n",
      " |    |    |-- embeddings: array (nullable = true)\n",
      " |    |    |    |-- element: float (containsNull = false)\n",
      " |-- normalized: array (nullable = true)\n",
      " |    |-- element: struct (containsNull = true)\n",
      " |    |    |-- annotatorType: string (nullable = true)\n",
      " |    |    |-- begin: integer (nullable = false)\n",
      " |    |    |-- end: integer (nullable = false)\n",
      " |    |    |-- result: string (nullable = true)\n",
      " |    |    |-- metadata: map (nullable = true)\n",
      " |    |    |    |-- key: string\n",
      " |    |    |    |-- value: string (valueContainsNull = true)\n",
      " |    |    |-- embeddings: array (nullable = true)\n",
      " |    |    |    |-- element: float (containsNull = false)\n",
      " |-- pos: array (nullable = true)\n",
      " |    |-- element: string (containsNull = true)\n",
      " |-- lemma: array (nullable = true)\n",
      " |    |-- element: struct (containsNull = true)\n",
      " |    |    |-- annotatorType: string (nullable = true)\n",
      " |    |    |-- begin: integer (nullable = false)\n",
      " |    |    |-- end: integer (nullable = false)\n",
      " |    |    |-- result: string (nullable = true)\n",
      " |    |    |-- metadata: map (nullable = true)\n",
      " |    |    |    |-- key: string\n",
      " |    |    |    |-- value: string (valueContainsNull = true)\n",
      " |    |    |-- embeddings: array (nullable = true)\n",
      " |    |    |    |-- element: float (containsNull = false)\n",
      " |-- tokens: array (nullable = true)\n",
      " |    |-- element: string (containsNull = true)\n",
      "\n"
     ]
    }
   ],
   "source": [
    "processed_df.printSchema()"
   ]
  },
  {
   "cell_type": "code",
   "execution_count": 17,
   "metadata": {},
   "outputs": [],
   "source": [
    "tokens = processed_df.select(\"value\",\"tokens\",\"pos\")"
   ]
  },
  {
   "cell_type": "code",
   "execution_count": 18,
   "metadata": {},
   "outputs": [
    {
     "name": "stdout",
     "output_type": "stream",
     "text": [
      "-RECORD 0--------------------------------------------------------------------------------------------------------------------------------------------------------\n",
      " value  | walter extra is a german award-winning aerobatic pilot , chief aircraft designer and founder of extra flugzeugbau -lrb- extra aircraft construction... \n",
      " tokens | [walter, extra, german, awardwinning, aerobatic, pilot, chief, aircraft, designer, founder, extra, flugzeugbau, lrb, extra, aircraft, construction,... \n",
      " pos    | [NOUN, ADJ, ADJ, VERB, ADJ, NOUN, ADJ, NOUN, NOUN, NOUN, ADJ, NOUN, NOUN, ADJ, NOUN, NOUN, NOUN, NOUN, ADJ, NOUN]                                      \n",
      "-RECORD 1--------------------------------------------------------------------------------------------------------------------------------------------------------\n",
      " value  | extra was trained as a mechanical engineer .                                                                                                           \n",
      " tokens | [extra, train, mechanical, engineer]                                                                                                                   \n",
      " pos    | [ADJ, VERB, ADJ, NOUN]                                                                                                                                 \n",
      "-RECORD 2--------------------------------------------------------------------------------------------------------------------------------------------------------\n",
      " value  | he began his flight training in gliders , transitioning to powered aircraft to perform aerobatics .                                                    \n",
      " tokens | [he, begin, he, flight, training, glider, transition, power, aircraft, perform, aerobatic]                                                             \n",
      " pos    | [PRON, VERB, PRON, NOUN, NOUN, NOUN, VERB, VERB, NOUN, NOUN, NOUN]                                                                                     \n",
      "-RECORD 3--------------------------------------------------------------------------------------------------------------------------------------------------------\n",
      " value  | he built and flew a pitts special aircraft and later built his own extra ea-230 .                                                                      \n",
      " tokens | [he, build, fly, pitts, special, aircraft, late, build, he, extra, ea]                                                                                 \n",
      " pos    | [PRON, VERB, VERB, NOUN, ADJ, NOUN, ADV, VERB, PRON, ADJ, NOUN]                                                                                        \n",
      "-RECORD 4--------------------------------------------------------------------------------------------------------------------------------------------------------\n",
      " value  | extra began designing aircraft after competing in the 1982 world aerobatic championships .                                                             \n",
      " tokens | [extra, begin, design, aircraft, compete, world, aerobatic, championship]                                                                              \n",
      " pos    | [ADJ, VERB, VERB, NOUN, VERB, NOUN, ADJ, NOUN]                                                                                                         \n",
      "only showing top 5 rows\n",
      "\n"
     ]
    },
    {
     "name": "stderr",
     "output_type": "stream",
     "text": [
      "                                                                                \r"
     ]
    }
   ],
   "source": [
    "tokens.show(5,vertical=True,truncate=150)"
   ]
  },
  {
   "cell_type": "code",
   "execution_count": 19,
   "metadata": {},
   "outputs": [],
   "source": [
    "preprocess_ds = tokens.selectExpr('*',\"size(filter(tokens, x -> x='he')) as male_pronoun\")\n",
    "preprocess_ds = preprocess_ds.selectExpr('*',\"size(filter(tokens, x -> x='she')) as female_pronoun\")\n",
    "preprocess_ds = preprocess_ds.selectExpr('*', \"filter(arrays_zip(tokens,pos), x -> x.pos in ('VERB','ADJ')).tokens as pos_tokens\")\n",
    "preprocess_ds = preprocess_ds.selectExpr('*','(male_pronoun-female_pronoun)/((male_pronoun+female_pronoun)+0.001) as gender')\n"
   ]
  },
  {
   "cell_type": "code",
   "execution_count": 20,
   "metadata": {},
   "outputs": [
    {
     "name": "stdout",
     "output_type": "stream",
     "text": [
      "-RECORD 0----------------------------------------------------------------------------------------------------------------------------------------------------------------\n",
      " value          | walter extra is a german award-winning aerobatic pilot , chief aircraft designer and founder of extra flugzeugbau -lrb- extra aircraft construction... \n",
      " tokens         | [walter, extra, german, awardwinning, aerobatic, pilot, chief, aircraft, designer, founder, extra, flugzeugbau, lrb, extra, aircraft, construction,... \n",
      " pos            | [NOUN, ADJ, ADJ, VERB, ADJ, NOUN, ADJ, NOUN, NOUN, NOUN, ADJ, NOUN, NOUN, ADJ, NOUN, NOUN, NOUN, NOUN, ADJ, NOUN]                                      \n",
      " male_pronoun   | 0                                                                                                                                                      \n",
      " female_pronoun | 0                                                                                                                                                      \n",
      " pos_tokens     | [extra, german, awardwinning, aerobatic, chief, extra, extra, aerobatic]                                                                               \n",
      " gender         | 0E-15                                                                                                                                                  \n",
      "-RECORD 1----------------------------------------------------------------------------------------------------------------------------------------------------------------\n",
      " value          | extra was trained as a mechanical engineer .                                                                                                           \n",
      " tokens         | [extra, train, mechanical, engineer]                                                                                                                   \n",
      " pos            | [ADJ, VERB, ADJ, NOUN]                                                                                                                                 \n",
      " male_pronoun   | 0                                                                                                                                                      \n",
      " female_pronoun | 0                                                                                                                                                      \n",
      " pos_tokens     | [extra, train, mechanical]                                                                                                                             \n",
      " gender         | 0E-15                                                                                                                                                  \n",
      "-RECORD 2----------------------------------------------------------------------------------------------------------------------------------------------------------------\n",
      " value          | he began his flight training in gliders , transitioning to powered aircraft to perform aerobatics .                                                    \n",
      " tokens         | [he, begin, he, flight, training, glider, transition, power, aircraft, perform, aerobatic]                                                             \n",
      " pos            | [PRON, VERB, PRON, NOUN, NOUN, NOUN, VERB, VERB, NOUN, NOUN, NOUN]                                                                                     \n",
      " male_pronoun   | 2                                                                                                                                                      \n",
      " female_pronoun | 0                                                                                                                                                      \n",
      " pos_tokens     | [begin, transition, power]                                                                                                                             \n",
      " gender         | 0.999500249875062                                                                                                                                      \n",
      "-RECORD 3----------------------------------------------------------------------------------------------------------------------------------------------------------------\n",
      " value          | he built and flew a pitts special aircraft and later built his own extra ea-230 .                                                                      \n",
      " tokens         | [he, build, fly, pitts, special, aircraft, late, build, he, extra, ea]                                                                                 \n",
      " pos            | [PRON, VERB, VERB, NOUN, ADJ, NOUN, ADV, VERB, PRON, ADJ, NOUN]                                                                                        \n",
      " male_pronoun   | 2                                                                                                                                                      \n",
      " female_pronoun | 0                                                                                                                                                      \n",
      " pos_tokens     | [build, fly, special, build, extra]                                                                                                                    \n",
      " gender         | 0.999500249875062                                                                                                                                      \n",
      "-RECORD 4----------------------------------------------------------------------------------------------------------------------------------------------------------------\n",
      " value          | extra began designing aircraft after competing in the 1982 world aerobatic championships .                                                             \n",
      " tokens         | [extra, begin, design, aircraft, compete, world, aerobatic, championship]                                                                              \n",
      " pos            | [ADJ, VERB, VERB, NOUN, VERB, NOUN, ADJ, NOUN]                                                                                                         \n",
      " male_pronoun   | 0                                                                                                                                                      \n",
      " female_pronoun | 0                                                                                                                                                      \n",
      " pos_tokens     | [extra, begin, design, compete, aerobatic]                                                                                                             \n",
      " gender         | 0E-15                                                                                                                                                  \n",
      "only showing top 5 rows\n",
      "\n"
     ]
    },
    {
     "name": "stderr",
     "output_type": "stream",
     "text": [
      "                                                                                \r"
     ]
    }
   ],
   "source": [
    "preprocess_ds.show(5,vertical=True,truncate=150)"
   ]
  },
  {
   "cell_type": "code",
   "execution_count": 21,
   "metadata": {},
   "outputs": [],
   "source": [
    "preprocess_ds = preprocess_ds.filter(F.abs(F.col(\"gender\"))>0.25)"
   ]
  },
  {
   "cell_type": "code",
   "execution_count": 22,
   "metadata": {},
   "outputs": [
    {
     "name": "stdout",
     "output_type": "stream",
     "text": [
      "-RECORD 0----------------------------------------------------------------------------------------------------------------------------------------------------------------\n",
      " value          | he began his flight training in gliders , transitioning to powered aircraft to perform aerobatics .                                                    \n",
      " tokens         | [he, begin, he, flight, training, glider, transition, power, aircraft, perform, aerobatic]                                                             \n",
      " pos            | [PRON, VERB, PRON, NOUN, NOUN, NOUN, VERB, VERB, NOUN, NOUN, NOUN]                                                                                     \n",
      " male_pronoun   | 2                                                                                                                                                      \n",
      " female_pronoun | 0                                                                                                                                                      \n",
      " pos_tokens     | [begin, transition, power]                                                                                                                             \n",
      " gender         | 0.999500249875062                                                                                                                                      \n",
      "-RECORD 1----------------------------------------------------------------------------------------------------------------------------------------------------------------\n",
      " value          | he built and flew a pitts special aircraft and later built his own extra ea-230 .                                                                      \n",
      " tokens         | [he, build, fly, pitts, special, aircraft, late, build, he, extra, ea]                                                                                 \n",
      " pos            | [PRON, VERB, VERB, NOUN, ADJ, NOUN, ADV, VERB, PRON, ADJ, NOUN]                                                                                        \n",
      " male_pronoun   | 2                                                                                                                                                      \n",
      " female_pronoun | 0                                                                                                                                                      \n",
      " pos_tokens     | [build, fly, special, build, extra]                                                                                                                    \n",
      " gender         | 0.999500249875062                                                                                                                                      \n",
      "-RECORD 2----------------------------------------------------------------------------------------------------------------------------------------------------------------\n",
      " value          | his aircraft constructions revolutionized the aerobatics flying scene and still dominate world competitions .                                          \n",
      " tokens         | [he, aircraft, construction, revolutionize, aerobatic, fly, scene, still, dominate, world, competition]                                                \n",
      " pos            | [PRON, NOUN, NOUN, VERB, NOUN, VERB, NOUN, ADV, ADJ, NOUN, NOUN]                                                                                       \n",
      " male_pronoun   | 1                                                                                                                                                      \n",
      " female_pronoun | 0                                                                                                                                                      \n",
      " pos_tokens     | [revolutionize, fly, dominate]                                                                                                                         \n",
      " gender         | 0.999000999000999                                                                                                                                      \n",
      "-RECORD 3----------------------------------------------------------------------------------------------------------------------------------------------------------------\n",
      " value          | the german pilot klaus schrodt won his world championship title flying an aircraft made by the extra firm .                                            \n",
      " tokens         | [german, pilot, klaus, schrodt, win, he, world, championship, title, fly, aircraft, make, extra, firm]                                                 \n",
      " pos            | [ADJ, NOUN, NOUN, NOUN, VERB, PRON, NOUN, NOUN, NOUN, VERB, NOUN, VERB, ADJ, NOUN]                                                                     \n",
      " male_pronoun   | 1                                                                                                                                                      \n",
      " female_pronoun | 0                                                                                                                                                      \n",
      " pos_tokens     | [german, win, fly, make, extra]                                                                                                                        \n",
      " gender         | 0.999000999000999                                                                                                                                      \n",
      "-RECORD 4----------------------------------------------------------------------------------------------------------------------------------------------------------------\n",
      " value          | she was a member of the district committee of the communist party of slovenia for klagenfurt and was named a people 's hero of yugoslavia after her... \n",
      " tokens         | [she, member, district, committee, communist, party, slovenia, klagenfurt, name, people, hero, yugoslavia, she, death]                                 \n",
      " pos            | [PRON, NOUN, NOUN, NOUN, ADJ, NOUN, NOUN, NOUN, VERB, NOUN, NOUN, VERB, PRON, NOUN]                                                                    \n",
      " male_pronoun   | 0                                                                                                                                                      \n",
      " female_pronoun | 2                                                                                                                                                      \n",
      " pos_tokens     | [communist, name, yugoslavia]                                                                                                                          \n",
      " gender         | -0.999500249875062                                                                                                                                     \n",
      "only showing top 5 rows\n",
      "\n"
     ]
    },
    {
     "name": "stderr",
     "output_type": "stream",
     "text": [
      "                                                                                \r"
     ]
    }
   ],
   "source": [
    "preprocess_ds.show(5,vertical=True,truncate=150)"
   ]
  },
  {
   "cell_type": "code",
   "execution_count": 24,
   "metadata": {},
   "outputs": [],
   "source": [
    "!rm -r data"
   ]
  },
  {
   "cell_type": "code",
   "execution_count": 25,
   "metadata": {},
   "outputs": [
    {
     "name": "stderr",
     "output_type": "stream",
     "text": [
      "                                                                                \r"
     ]
    }
   ],
   "source": [
    "preprocess_ds.select(\"value\",\"pos_tokens\",\"gender\").write.parquet(\"data\")"
   ]
  },
  {
   "cell_type": "code",
   "execution_count": null,
   "metadata": {},
   "outputs": [],
   "source": []
  }
 ],
 "metadata": {
  "interpreter": {
   "hash": "71e4c5c747264a447f1e078a58b82fc5cb2a4d310632066934fb8da9baa9b0b1"
  },
  "kernelspec": {
   "display_name": "Python 3.10.4 ('py-sparknlp')",
   "language": "python",
   "name": "python3"
  },
  "language_info": {
   "codemirror_mode": {
    "name": "ipython",
    "version": 3
   },
   "file_extension": ".py",
   "mimetype": "text/x-python",
   "name": "python",
   "nbconvert_exporter": "python",
   "pygments_lexer": "ipython3",
   "version": "3.10.4"
  },
  "orig_nbformat": 4
 },
 "nbformat": 4,
 "nbformat_minor": 2
}
