{
 "cells": [
  {
   "cell_type": "markdown",
   "metadata": {},
   "source": [
    "### Libraries"
   ]
  },
  {
   "cell_type": "code",
   "execution_count": 1,
   "metadata": {},
   "outputs": [],
   "source": [
    "from pyspark.sql import SparkSession\n",
    "from pyspark.sql import functions as F\n",
    "from pyspark.sql.types import *\n",
    "\n",
    "import pandas as pd\n",
    "import seaborn as sns\n",
    "import matplotlib.pyplot as plt\n",
    "\n",
    "#Spark version and Spark NLP version should be align"
   ]
  },
  {
   "cell_type": "code",
   "execution_count": 47,
   "metadata": {},
   "outputs": [],
   "source": [
    "from sparknlp.base import DocumentAssembler, Finisher, Pipeline\n",
    "from sparknlp.annotator import Tokenizer, Normalizer, StopWordsCleaner, PerceptronModel,LemmatizerModel,BertEmbeddings,NerDLModel,WordEmbeddingsModel\n",
    "#from sparknlp.pretrained import PretrainedPipeline\n",
    "from pyspark.ml.feature import StopWordsRemover"
   ]
  },
  {
   "cell_type": "markdown",
   "metadata": {},
   "source": [
    "### Spark Session Builder"
   ]
  },
  {
   "cell_type": "code",
   "execution_count": 10,
   "metadata": {},
   "outputs": [],
   "source": [
    "spark = SparkSession.builder\\\n",
    "    .appName(\"nlp\")\\\n",
    "    .master(\"local[*]\")\\\n",
    "    .config(\"spark.driver.memory\",\"16G\")\\\n",
    "    .config(\"spark.driver.maxResultSize\", \"0\") \\\n",
    "    .config(\"spark.kryoserializer.buffer.max\", \"2000M\")\\\n",
    "    .config(\"spark.jars.packages\", \"com.johnsnowlabs.nlp:spark-nlp_2.12:3.4.4\")\\\n",
    "    .getOrCreate()\n",
    "\n",
    "spark.sparkContext.setLogLevel(\"WARN\")"
   ]
  },
  {
   "cell_type": "markdown",
   "metadata": {},
   "source": [
    "### Data Extraction"
   ]
  },
  {
   "cell_type": "code",
   "execution_count": 245,
   "metadata": {},
   "outputs": [],
   "source": [
    "path = \"/home/rjac/workspace/wikipedia-biography-dataset/wikipedia-biography-dataset/train/train.sent\"\n",
    "df = spark.read.text(path)"
   ]
  },
  {
   "cell_type": "code",
   "execution_count": 246,
   "metadata": {},
   "outputs": [
    {
     "name": "stdout",
     "output_type": "stream",
     "text": [
      "-RECORD 0---------------------------------------------------------------------------------------------------------------------------------------------------------------------------------------------------\n",
      " value | walter extra is a german award-winning aerobatic pilot , chief aircraft designer and founder of extra flugzeugbau -lrb- extra aircraft construction -rrb- , a manufacturer of aerobatic aircraft . \n",
      "-RECORD 1---------------------------------------------------------------------------------------------------------------------------------------------------------------------------------------------------\n",
      " value | extra was trained as a mechanical engineer .                                                                                                                                                       \n",
      "-RECORD 2---------------------------------------------------------------------------------------------------------------------------------------------------------------------------------------------------\n",
      " value | he began his flight training in gliders , transitioning to powered aircraft to perform aerobatics .                                                                                                \n",
      "-RECORD 3---------------------------------------------------------------------------------------------------------------------------------------------------------------------------------------------------\n",
      " value | he built and flew a pitts special aircraft and later built his own extra ea-230 .                                                                                                                  \n",
      "-RECORD 4---------------------------------------------------------------------------------------------------------------------------------------------------------------------------------------------------\n",
      " value | extra began designing aircraft after competing in the 1982 world aerobatic championships .                                                                                                         \n",
      "only showing top 5 rows\n",
      "\n"
     ]
    }
   ],
   "source": [
    "df.show(5,vertical=True,truncate=250)"
   ]
  },
  {
   "cell_type": "code",
   "execution_count": 247,
   "metadata": {},
   "outputs": [],
   "source": [
    "#df = df.selectExpr('*','initCap(value) as cap')"
   ]
  },
  {
   "cell_type": "code",
   "execution_count": 248,
   "metadata": {},
   "outputs": [],
   "source": [
    "exclude = [\"i\",\"he\",\"him\",\"his\",\"himself\",\"she\",\"her\",\"hers\",\"herself\",'they','them', 'their','theirs','themselves',\"she's\",\"he's\"]\n",
    "stopwords = [w for w in StopWordsRemover().getStopWords() if w not in exclude]"
   ]
  },
  {
   "cell_type": "markdown",
   "metadata": {},
   "source": [
    "### Data Processing"
   ]
  },
  {
   "cell_type": "code",
   "execution_count": 249,
   "metadata": {},
   "outputs": [],
   "source": [
    "document_assambler = DocumentAssembler().setInputCol(\"value\").setOutputCol(\"document\").setCleanupMode(\"shrink\")\n",
    "tokenizer = Tokenizer().setInputCols([\"document\"]).setOutputCol(\"token\")"
   ]
  },
  {
   "cell_type": "code",
   "execution_count": 250,
   "metadata": {},
   "outputs": [
    {
     "name": "stdout",
     "output_type": "stream",
     "text": [
      "pos_ud_ewt download started this may take some time.\n",
      "Approximate size to download 2.2 MB\n",
      "[OK!]\n",
      "lemma_antbnc download started this may take some time.\n",
      "Approximate size to download 907.6 KB\n",
      "[OK!]\n"
     ]
    }
   ],
   "source": [
    "#output1\n",
    "#normalizer = Normalizer().setInputCols([\"token\"]).setOutputCol(\"normalized\").setLowercase(True)\n",
    "stopword_cleaner = StopWordsCleaner().setInputCols([\"token\"]).setOutputCol(\"cleanTokens\").setCaseSensitive(False).setStopWords(stopwords)\n",
    "normalizer = Normalizer().setInputCols([\"cleanTokens\"]).setOutputCol(\"normalized\").setLowercase(True)\n",
    "pos_tagger = PerceptronModel().pretrained(\"pos_ud_ewt\", 'en').setInputCols([\"document\",\"normalized\"]).setOutputCol(\"pos\")\n",
    "lemmatizer = LemmatizerModel.pretrained().setInputCols([\"normalized\"]).setOutputCol(\"lemma\")"
   ]
  },
  {
   "cell_type": "code",
   "execution_count": 251,
   "metadata": {},
   "outputs": [],
   "source": [
    "#output2\n",
    "#pos_tagger = PerceptronModel().pretrained(\"pos_ud_ewt\", 'en').setInputCols([\"document\",\"token\"]).setOutputCol(\"pos\")"
   ]
  },
  {
   "cell_type": "code",
   "execution_count": 252,
   "metadata": {},
   "outputs": [],
   "source": [
    "\n",
    "#output3\n",
    "#embeddings = WordEmbeddingsModel().pretrained().setInputCols(\"document\", \"cleanTokens\").setOutputCol(\"embeddings\")\n",
    "#ner_model = NerDLModel.pretrained().setInputCols([\"document\", \"cleanTokens\", \"embeddings\"]).setOutputCol(\"ner\")"
   ]
  },
  {
   "cell_type": "code",
   "execution_count": 253,
   "metadata": {},
   "outputs": [],
   "source": [
    "#Result\n",
    "finisher = Finisher().setInputCols([\"lemma\",\"pos\"]).setOutputCols([\"tokens\",\"pos\"]).setOutputAsArray(True).setCleanAnnotations(False)"
   ]
  },
  {
   "cell_type": "code",
   "execution_count": 254,
   "metadata": {},
   "outputs": [],
   "source": [
    "nlp_pipeline = Pipeline(stages=[\n",
    "    document_assambler\n",
    "    ,tokenizer\n",
    "    ,stopword_cleaner\n",
    "    ,normalizer\n",
    "    ,pos_tagger\n",
    "    ,lemmatizer\n",
    "    ,finisher\n",
    "    ]\n",
    ")"
   ]
  },
  {
   "cell_type": "code",
   "execution_count": 255,
   "metadata": {},
   "outputs": [],
   "source": [
    "nlp_model = nlp_pipeline.fit(df)"
   ]
  },
  {
   "cell_type": "code",
   "execution_count": 256,
   "metadata": {},
   "outputs": [],
   "source": [
    "processed_df  = nlp_model.transform(df)"
   ]
  },
  {
   "cell_type": "code",
   "execution_count": 257,
   "metadata": {},
   "outputs": [
    {
     "name": "stdout",
     "output_type": "stream",
     "text": [
      "root\n",
      " |-- value: string (nullable = true)\n",
      " |-- document: array (nullable = true)\n",
      " |    |-- element: struct (containsNull = true)\n",
      " |    |    |-- annotatorType: string (nullable = true)\n",
      " |    |    |-- begin: integer (nullable = false)\n",
      " |    |    |-- end: integer (nullable = false)\n",
      " |    |    |-- result: string (nullable = true)\n",
      " |    |    |-- metadata: map (nullable = true)\n",
      " |    |    |    |-- key: string\n",
      " |    |    |    |-- value: string (valueContainsNull = true)\n",
      " |    |    |-- embeddings: array (nullable = true)\n",
      " |    |    |    |-- element: float (containsNull = false)\n",
      " |-- token: array (nullable = true)\n",
      " |    |-- element: struct (containsNull = true)\n",
      " |    |    |-- annotatorType: string (nullable = true)\n",
      " |    |    |-- begin: integer (nullable = false)\n",
      " |    |    |-- end: integer (nullable = false)\n",
      " |    |    |-- result: string (nullable = true)\n",
      " |    |    |-- metadata: map (nullable = true)\n",
      " |    |    |    |-- key: string\n",
      " |    |    |    |-- value: string (valueContainsNull = true)\n",
      " |    |    |-- embeddings: array (nullable = true)\n",
      " |    |    |    |-- element: float (containsNull = false)\n",
      " |-- cleanTokens: array (nullable = true)\n",
      " |    |-- element: struct (containsNull = true)\n",
      " |    |    |-- annotatorType: string (nullable = true)\n",
      " |    |    |-- begin: integer (nullable = false)\n",
      " |    |    |-- end: integer (nullable = false)\n",
      " |    |    |-- result: string (nullable = true)\n",
      " |    |    |-- metadata: map (nullable = true)\n",
      " |    |    |    |-- key: string\n",
      " |    |    |    |-- value: string (valueContainsNull = true)\n",
      " |    |    |-- embeddings: array (nullable = true)\n",
      " |    |    |    |-- element: float (containsNull = false)\n",
      " |-- normalized: array (nullable = true)\n",
      " |    |-- element: struct (containsNull = true)\n",
      " |    |    |-- annotatorType: string (nullable = true)\n",
      " |    |    |-- begin: integer (nullable = false)\n",
      " |    |    |-- end: integer (nullable = false)\n",
      " |    |    |-- result: string (nullable = true)\n",
      " |    |    |-- metadata: map (nullable = true)\n",
      " |    |    |    |-- key: string\n",
      " |    |    |    |-- value: string (valueContainsNull = true)\n",
      " |    |    |-- embeddings: array (nullable = true)\n",
      " |    |    |    |-- element: float (containsNull = false)\n",
      " |-- pos: array (nullable = true)\n",
      " |    |-- element: string (containsNull = true)\n",
      " |-- lemma: array (nullable = true)\n",
      " |    |-- element: struct (containsNull = true)\n",
      " |    |    |-- annotatorType: string (nullable = true)\n",
      " |    |    |-- begin: integer (nullable = false)\n",
      " |    |    |-- end: integer (nullable = false)\n",
      " |    |    |-- result: string (nullable = true)\n",
      " |    |    |-- metadata: map (nullable = true)\n",
      " |    |    |    |-- key: string\n",
      " |    |    |    |-- value: string (valueContainsNull = true)\n",
      " |    |    |-- embeddings: array (nullable = true)\n",
      " |    |    |    |-- element: float (containsNull = false)\n",
      " |-- tokens: array (nullable = true)\n",
      " |    |-- element: string (containsNull = true)\n",
      "\n"
     ]
    }
   ],
   "source": [
    "processed_df.printSchema()"
   ]
  },
  {
   "cell_type": "code",
   "execution_count": 258,
   "metadata": {},
   "outputs": [],
   "source": [
    "tokens = processed_df.select(\"value\",\"tokens\",\"pos\")"
   ]
  },
  {
   "cell_type": "code",
   "execution_count": 259,
   "metadata": {},
   "outputs": [
    {
     "name": "stdout",
     "output_type": "stream",
     "text": [
      "-RECORD 0--------------------------------------------------------------------------------------------------------------------------------------------------------\n",
      " value  | walter extra is a german award-winning aerobatic pilot , chief aircraft designer and founder of extra flugzeugbau -lrb- extra aircraft construction... \n",
      " tokens | [walter, extra, german, awardwinning, aerobatic, pilot, chief, aircraft, designer, founder, extra, flugzeugbau, lrb, extra, aircraft, construction,... \n",
      " pos    | [NOUN, ADJ, ADJ, VERB, ADJ, NOUN, ADJ, NOUN, NOUN, NOUN, ADJ, NOUN, NOUN, ADJ, NOUN, NOUN, NOUN, NOUN, ADJ, NOUN]                                      \n",
      "-RECORD 1--------------------------------------------------------------------------------------------------------------------------------------------------------\n",
      " value  | extra was trained as a mechanical engineer .                                                                                                           \n",
      " tokens | [extra, train, mechanical, engineer]                                                                                                                   \n",
      " pos    | [ADJ, VERB, ADJ, NOUN]                                                                                                                                 \n",
      "-RECORD 2--------------------------------------------------------------------------------------------------------------------------------------------------------\n",
      " value  | he began his flight training in gliders , transitioning to powered aircraft to perform aerobatics .                                                    \n",
      " tokens | [he, begin, he, flight, training, glider, transition, power, aircraft, perform, aerobatic]                                                             \n",
      " pos    | [PRON, VERB, PRON, NOUN, NOUN, NOUN, VERB, VERB, NOUN, NOUN, NOUN]                                                                                     \n",
      "-RECORD 3--------------------------------------------------------------------------------------------------------------------------------------------------------\n",
      " value  | he built and flew a pitts special aircraft and later built his own extra ea-230 .                                                                      \n",
      " tokens | [he, build, fly, pitts, special, aircraft, late, build, he, extra, ea]                                                                                 \n",
      " pos    | [PRON, VERB, VERB, NOUN, ADJ, NOUN, ADV, VERB, PRON, ADJ, NOUN]                                                                                        \n",
      "-RECORD 4--------------------------------------------------------------------------------------------------------------------------------------------------------\n",
      " value  | extra began designing aircraft after competing in the 1982 world aerobatic championships .                                                             \n",
      " tokens | [extra, begin, design, aircraft, compete, world, aerobatic, championship]                                                                              \n",
      " pos    | [ADJ, VERB, VERB, NOUN, VERB, NOUN, ADJ, NOUN]                                                                                                         \n",
      "only showing top 5 rows\n",
      "\n"
     ]
    }
   ],
   "source": [
    "tokens.show(5,vertical=True,truncate=150)"
   ]
  },
  {
   "cell_type": "code",
   "execution_count": 266,
   "metadata": {},
   "outputs": [],
   "source": [
    "preprocess_ds = tokens.selectExpr('*',\"size(filter(tokens, x -> x='he')) as male_pronoun\")\n",
    "preprocess_ds = preprocess_ds.selectExpr('*',\"size(filter(tokens, x -> x='she')) as female_pronoun\")\n",
    "preprocess_ds = preprocess_ds.selectExpr('*', \"filter(arrays_zip(tokens,pos), x -> x.pos in ('VERB','NOUN','ADJ')).tokens as nouns\")\n",
    "preprocess_ds = preprocess_ds.selectExpr('*','(male_pronoun-female_pronoun)/((male_pronoun+female_pronoun)+0.001) as gender')\n"
   ]
  },
  {
   "cell_type": "code",
   "execution_count": 267,
   "metadata": {},
   "outputs": [
    {
     "name": "stdout",
     "output_type": "stream",
     "text": [
      "-RECORD 0----------------------------------------------------------------------------------------------------------------------------------------------------------------\n",
      " value          | walter extra is a german award-winning aerobatic pilot , chief aircraft designer and founder of extra flugzeugbau -lrb- extra aircraft construction... \n",
      " tokens         | [walter, extra, german, awardwinning, aerobatic, pilot, chief, aircraft, designer, founder, extra, flugzeugbau, lrb, extra, aircraft, construction,... \n",
      " pos            | [NOUN, ADJ, ADJ, VERB, ADJ, NOUN, ADJ, NOUN, NOUN, NOUN, ADJ, NOUN, NOUN, ADJ, NOUN, NOUN, NOUN, NOUN, ADJ, NOUN]                                      \n",
      " male_pronoun   | 0                                                                                                                                                      \n",
      " female_pronoun | 0                                                                                                                                                      \n",
      " nouns          | [walter, extra, german, awardwinning, aerobatic, pilot, chief, aircraft, designer, founder, extra, flugzeugbau, lrb, extra, aircraft, construction,... \n",
      " gender         | 0E-15                                                                                                                                                  \n",
      "-RECORD 1----------------------------------------------------------------------------------------------------------------------------------------------------------------\n",
      " value          | extra was trained as a mechanical engineer .                                                                                                           \n",
      " tokens         | [extra, train, mechanical, engineer]                                                                                                                   \n",
      " pos            | [ADJ, VERB, ADJ, NOUN]                                                                                                                                 \n",
      " male_pronoun   | 0                                                                                                                                                      \n",
      " female_pronoun | 0                                                                                                                                                      \n",
      " nouns          | [extra, train, mechanical, engineer]                                                                                                                   \n",
      " gender         | 0E-15                                                                                                                                                  \n",
      "-RECORD 2----------------------------------------------------------------------------------------------------------------------------------------------------------------\n",
      " value          | he began his flight training in gliders , transitioning to powered aircraft to perform aerobatics .                                                    \n",
      " tokens         | [he, begin, he, flight, training, glider, transition, power, aircraft, perform, aerobatic]                                                             \n",
      " pos            | [PRON, VERB, PRON, NOUN, NOUN, NOUN, VERB, VERB, NOUN, NOUN, NOUN]                                                                                     \n",
      " male_pronoun   | 2                                                                                                                                                      \n",
      " female_pronoun | 0                                                                                                                                                      \n",
      " nouns          | [begin, flight, training, glider, transition, power, aircraft, perform, aerobatic]                                                                     \n",
      " gender         | 0.999500249875062                                                                                                                                      \n",
      "-RECORD 3----------------------------------------------------------------------------------------------------------------------------------------------------------------\n",
      " value          | he built and flew a pitts special aircraft and later built his own extra ea-230 .                                                                      \n",
      " tokens         | [he, build, fly, pitts, special, aircraft, late, build, he, extra, ea]                                                                                 \n",
      " pos            | [PRON, VERB, VERB, NOUN, ADJ, NOUN, ADV, VERB, PRON, ADJ, NOUN]                                                                                        \n",
      " male_pronoun   | 2                                                                                                                                                      \n",
      " female_pronoun | 0                                                                                                                                                      \n",
      " nouns          | [build, fly, pitts, special, aircraft, build, extra, ea]                                                                                               \n",
      " gender         | 0.999500249875062                                                                                                                                      \n",
      "-RECORD 4----------------------------------------------------------------------------------------------------------------------------------------------------------------\n",
      " value          | extra began designing aircraft after competing in the 1982 world aerobatic championships .                                                             \n",
      " tokens         | [extra, begin, design, aircraft, compete, world, aerobatic, championship]                                                                              \n",
      " pos            | [ADJ, VERB, VERB, NOUN, VERB, NOUN, ADJ, NOUN]                                                                                                         \n",
      " male_pronoun   | 0                                                                                                                                                      \n",
      " female_pronoun | 0                                                                                                                                                      \n",
      " nouns          | [extra, begin, design, aircraft, compete, world, aerobatic, championship]                                                                              \n",
      " gender         | 0E-15                                                                                                                                                  \n",
      "only showing top 5 rows\n",
      "\n"
     ]
    }
   ],
   "source": [
    "preprocess_ds.show(5,vertical=True,truncate=150)"
   ]
  },
  {
   "cell_type": "code",
   "execution_count": 268,
   "metadata": {},
   "outputs": [],
   "source": [
    "preprocess_ds = preprocess_ds.filter(F.abs(F.col(\"gender\"))>0.25)"
   ]
  },
  {
   "cell_type": "code",
   "execution_count": 269,
   "metadata": {},
   "outputs": [
    {
     "name": "stdout",
     "output_type": "stream",
     "text": [
      "-RECORD 0----------------------------------------------------------------------------------------------------------------------------------------------------------------\n",
      " value          | he began his flight training in gliders , transitioning to powered aircraft to perform aerobatics .                                                    \n",
      " tokens         | [he, begin, he, flight, training, glider, transition, power, aircraft, perform, aerobatic]                                                             \n",
      " pos            | [PRON, VERB, PRON, NOUN, NOUN, NOUN, VERB, VERB, NOUN, NOUN, NOUN]                                                                                     \n",
      " male_pronoun   | 2                                                                                                                                                      \n",
      " female_pronoun | 0                                                                                                                                                      \n",
      " nouns          | [begin, flight, training, glider, transition, power, aircraft, perform, aerobatic]                                                                     \n",
      " gender         | 0.999500249875062                                                                                                                                      \n",
      "-RECORD 1----------------------------------------------------------------------------------------------------------------------------------------------------------------\n",
      " value          | he built and flew a pitts special aircraft and later built his own extra ea-230 .                                                                      \n",
      " tokens         | [he, build, fly, pitts, special, aircraft, late, build, he, extra, ea]                                                                                 \n",
      " pos            | [PRON, VERB, VERB, NOUN, ADJ, NOUN, ADV, VERB, PRON, ADJ, NOUN]                                                                                        \n",
      " male_pronoun   | 2                                                                                                                                                      \n",
      " female_pronoun | 0                                                                                                                                                      \n",
      " nouns          | [build, fly, pitts, special, aircraft, build, extra, ea]                                                                                               \n",
      " gender         | 0.999500249875062                                                                                                                                      \n",
      "-RECORD 2----------------------------------------------------------------------------------------------------------------------------------------------------------------\n",
      " value          | his aircraft constructions revolutionized the aerobatics flying scene and still dominate world competitions .                                          \n",
      " tokens         | [he, aircraft, construction, revolutionize, aerobatic, fly, scene, still, dominate, world, competition]                                                \n",
      " pos            | [PRON, NOUN, NOUN, VERB, NOUN, VERB, NOUN, ADV, ADJ, NOUN, NOUN]                                                                                       \n",
      " male_pronoun   | 1                                                                                                                                                      \n",
      " female_pronoun | 0                                                                                                                                                      \n",
      " nouns          | [aircraft, construction, revolutionize, aerobatic, fly, scene, dominate, world, competition]                                                           \n",
      " gender         | 0.999000999000999                                                                                                                                      \n",
      "-RECORD 3----------------------------------------------------------------------------------------------------------------------------------------------------------------\n",
      " value          | the german pilot klaus schrodt won his world championship title flying an aircraft made by the extra firm .                                            \n",
      " tokens         | [german, pilot, klaus, schrodt, win, he, world, championship, title, fly, aircraft, make, extra, firm]                                                 \n",
      " pos            | [ADJ, NOUN, NOUN, NOUN, VERB, PRON, NOUN, NOUN, NOUN, VERB, NOUN, VERB, ADJ, NOUN]                                                                     \n",
      " male_pronoun   | 1                                                                                                                                                      \n",
      " female_pronoun | 0                                                                                                                                                      \n",
      " nouns          | [german, pilot, klaus, schrodt, win, world, championship, title, fly, aircraft, make, extra, firm]                                                     \n",
      " gender         | 0.999000999000999                                                                                                                                      \n",
      "-RECORD 4----------------------------------------------------------------------------------------------------------------------------------------------------------------\n",
      " value          | she was a member of the district committee of the communist party of slovenia for klagenfurt and was named a people 's hero of yugoslavia after her... \n",
      " tokens         | [she, member, district, committee, communist, party, slovenia, klagenfurt, name, people, hero, yugoslavia, she, death]                                 \n",
      " pos            | [PRON, NOUN, NOUN, NOUN, ADJ, NOUN, NOUN, NOUN, VERB, NOUN, NOUN, VERB, PRON, NOUN]                                                                    \n",
      " male_pronoun   | 0                                                                                                                                                      \n",
      " female_pronoun | 2                                                                                                                                                      \n",
      " nouns          | [member, district, committee, communist, party, slovenia, klagenfurt, name, people, hero, yugoslavia, death]                                           \n",
      " gender         | -0.999500249875062                                                                                                                                     \n",
      "only showing top 5 rows\n",
      "\n"
     ]
    },
    {
     "name": "stderr",
     "output_type": "stream",
     "text": [
      "                                                                                \r"
     ]
    }
   ],
   "source": [
    "preprocess_ds.show(5,vertical=True,truncate=150)"
   ]
  },
  {
   "cell_type": "code",
   "execution_count": 270,
   "metadata": {},
   "outputs": [
    {
     "name": "stderr",
     "output_type": "stream",
     "text": [
      "[Stage 64:>                                                       (0 + 12) / 12]\r"
     ]
    }
   ],
   "source": [
    "preprocess_ds.count()"
   ]
  }
 ],
 "metadata": {
  "interpreter": {
   "hash": "71e4c5c747264a447f1e078a58b82fc5cb2a4d310632066934fb8da9baa9b0b1"
  },
  "kernelspec": {
   "display_name": "Python 3.10.4 ('py-sparknlp')",
   "language": "python",
   "name": "python3"
  },
  "language_info": {
   "codemirror_mode": {
    "name": "ipython",
    "version": 3
   },
   "file_extension": ".py",
   "mimetype": "text/x-python",
   "name": "python",
   "nbconvert_exporter": "python",
   "pygments_lexer": "ipython3",
   "version": "3.10.4"
  },
  "orig_nbformat": 4
 },
 "nbformat": 4,
 "nbformat_minor": 2
}
