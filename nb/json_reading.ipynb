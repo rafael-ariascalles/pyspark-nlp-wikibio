{
 "cells": [
  {
   "cell_type": "code",
   "execution_count": 1,
   "metadata": {},
   "outputs": [],
   "source": [
    "import sparknlp\n",
    "\n",
    "import pyspark\n",
    "from pyspark import SparkConf\n",
    "from pyspark.sql import SparkSession\n",
    "from pyspark.sql import functions as fun\n",
    "from pyspark.sql.types import *\n",
    "\n",
    "import pandas as pd\n",
    "import seaborn as sns\n",
    "\n",
    "import matplotlib.pyplot as plt\n",
    "\n",
    "from sparknlp.pretrained import PretrainedPipeline\n",
    "from sparknlp import Finisher\n",
    "#Spark version and Spark NLP version should be align"
   ]
  },
  {
   "cell_type": "code",
   "execution_count": 2,
   "metadata": {},
   "outputs": [
    {
     "name": "stderr",
     "output_type": "stream",
     "text": [
      "22/06/02 13:09:19 WARN Utils: Your hostname, winware resolves to a loopback address: 127.0.1.1; using 172.25.24.223 instead (on interface eth0)\n",
      "22/06/02 13:09:19 WARN Utils: Set SPARK_LOCAL_IP if you need to bind to another address\n",
      "WARNING: An illegal reflective access operation has occurred\n",
      "WARNING: Illegal reflective access by org.apache.spark.unsafe.Platform (file:/home/rjac/anaconda3/envs/py-sparknlp/lib/python3.10/site-packages/pyspark/jars/spark-unsafe_2.12-3.1.2.jar) to constructor java.nio.DirectByteBuffer(long,int)\n",
      "WARNING: Please consider reporting this to the maintainers of org.apache.spark.unsafe.Platform\n",
      "WARNING: Use --illegal-access=warn to enable warnings of further illegal reflective access operations\n",
      "WARNING: All illegal access operations will be denied in a future release\n"
     ]
    },
    {
     "name": "stdout",
     "output_type": "stream",
     "text": [
      ":: loading settings :: url = jar:file:/home/rjac/anaconda3/envs/py-sparknlp/lib/python3.10/site-packages/pyspark/jars/ivy-2.4.0.jar!/org/apache/ivy/core/settings/ivysettings.xml\n"
     ]
    },
    {
     "name": "stderr",
     "output_type": "stream",
     "text": [
      "Ivy Default Cache set to: /home/rjac/.ivy2/cache\n",
      "The jars for the packages stored in: /home/rjac/.ivy2/jars\n",
      "com.johnsnowlabs.nlp#spark-nlp_2.12 added as a dependency\n",
      ":: resolving dependencies :: org.apache.spark#spark-submit-parent-ab69adec-9e9b-4b88-9088-68a694b8870f;1.0\n",
      "\tconfs: [default]\n",
      "\tfound com.johnsnowlabs.nlp#spark-nlp_2.12;3.4.4 in central\n",
      "\tfound com.typesafe#config;1.4.2 in central\n",
      "\tfound org.rocksdb#rocksdbjni;6.5.3 in central\n",
      "\tfound com.amazonaws#aws-java-sdk-bundle;1.11.603 in central\n",
      "\tfound com.github.universal-automata#liblevenshtein;3.0.0 in central\n",
      "\tfound com.google.code.findbugs#annotations;3.0.1 in central\n",
      "\tfound net.jcip#jcip-annotations;1.0 in central\n",
      "\tfound com.google.code.findbugs#jsr305;3.0.1 in central\n",
      "\tfound com.google.protobuf#protobuf-java-util;3.0.0-beta-3 in central\n",
      "\tfound com.google.protobuf#protobuf-java;3.0.0-beta-3 in central\n",
      "\tfound com.google.code.gson#gson;2.3 in central\n",
      "\tfound it.unimi.dsi#fastutil;7.0.12 in central\n",
      "\tfound org.projectlombok#lombok;1.16.8 in central\n",
      "\tfound org.slf4j#slf4j-api;1.7.21 in central\n",
      "\tfound com.navigamez#greex;1.0 in central\n",
      "\tfound dk.brics.automaton#automaton;1.11-8 in central\n",
      "\tfound org.json4s#json4s-ext_2.12;3.5.3 in central\n",
      "\tfound joda-time#joda-time;2.9.5 in central\n",
      "\tfound org.joda#joda-convert;1.8.1 in central\n",
      "\tfound com.johnsnowlabs.nlp#tensorflow-cpu_2.12;0.3.3 in central\n",
      ":: resolution report :: resolve 663ms :: artifacts dl 26ms\n",
      "\t:: modules in use:\n",
      "\tcom.amazonaws#aws-java-sdk-bundle;1.11.603 from central in [default]\n",
      "\tcom.github.universal-automata#liblevenshtein;3.0.0 from central in [default]\n",
      "\tcom.google.code.findbugs#annotations;3.0.1 from central in [default]\n",
      "\tcom.google.code.findbugs#jsr305;3.0.1 from central in [default]\n",
      "\tcom.google.code.gson#gson;2.3 from central in [default]\n",
      "\tcom.google.protobuf#protobuf-java;3.0.0-beta-3 from central in [default]\n",
      "\tcom.google.protobuf#protobuf-java-util;3.0.0-beta-3 from central in [default]\n",
      "\tcom.johnsnowlabs.nlp#spark-nlp_2.12;3.4.4 from central in [default]\n",
      "\tcom.johnsnowlabs.nlp#tensorflow-cpu_2.12;0.3.3 from central in [default]\n",
      "\tcom.navigamez#greex;1.0 from central in [default]\n",
      "\tcom.typesafe#config;1.4.2 from central in [default]\n",
      "\tdk.brics.automaton#automaton;1.11-8 from central in [default]\n",
      "\tit.unimi.dsi#fastutil;7.0.12 from central in [default]\n",
      "\tjoda-time#joda-time;2.9.5 from central in [default]\n",
      "\tnet.jcip#jcip-annotations;1.0 from central in [default]\n",
      "\torg.joda#joda-convert;1.8.1 from central in [default]\n",
      "\torg.json4s#json4s-ext_2.12;3.5.3 from central in [default]\n",
      "\torg.projectlombok#lombok;1.16.8 from central in [default]\n",
      "\torg.rocksdb#rocksdbjni;6.5.3 from central in [default]\n",
      "\torg.slf4j#slf4j-api;1.7.21 from central in [default]\n",
      "\t---------------------------------------------------------------------\n",
      "\t|                  |            modules            ||   artifacts   |\n",
      "\t|       conf       | number| search|dwnlded|evicted|| number|dwnlded|\n",
      "\t---------------------------------------------------------------------\n",
      "\t|      default     |   20  |   0   |   0   |   0   ||   20  |   0   |\n",
      "\t---------------------------------------------------------------------\n",
      ":: retrieving :: org.apache.spark#spark-submit-parent-ab69adec-9e9b-4b88-9088-68a694b8870f\n",
      "\tconfs: [default]\n",
      "\t0 artifacts copied, 20 already retrieved (0kB/24ms)\n",
      "22/06/02 13:09:22 WARN NativeCodeLoader: Unable to load native-hadoop library for your platform... using builtin-java classes where applicable\n",
      "Using Spark's default log4j profile: org/apache/spark/log4j-defaults.properties\n",
      "Setting default log level to \"WARN\".\n",
      "To adjust logging level use sc.setLogLevel(newLevel). For SparkR, use setLogLevel(newLevel).\n"
     ]
    }
   ],
   "source": [
    "spark = SparkSession.builder \\\n",
    "    .appName(\"nlp\")\\\n",
    "    .master(\"local[*]\")\\\n",
    "    .config(\"spark.driver.memory\",\"8G\")\\\n",
    "    .config(\"spark.driver.maxResultSize\", \"0\") \\\n",
    "    .config(\"spark.kryoserializer.buffer.max\", \"2000M\")\\\n",
    "    .config(\"spark.jars.packages\", \"com.johnsnowlabs.nlp:spark-nlp_2.12:3.4.4\")\\\n",
    "    .getOrCreate()"
   ]
  },
  {
   "cell_type": "code",
   "execution_count": 3,
   "metadata": {},
   "outputs": [
    {
     "name": "stderr",
     "output_type": "stream",
     "text": [
      "                                                                                \r"
     ]
    }
   ],
   "source": [
    "df = spark.read.json(\"data\")"
   ]
  },
  {
   "cell_type": "code",
   "execution_count": 4,
   "metadata": {},
   "outputs": [
    {
     "name": "stdout",
     "output_type": "stream",
     "text": [
      "-RECORD 0----------------------------------------------------------------------------------------------------------------------------------------------------------------\n",
      " finished_pos   | [NN, NN, NN, JJS, NN, -, NN, -, CD, NNS, CD, :, CD, NNP, CD, :, NN, -, VBD, DT, NNP, NN, NN, NNP, NN, VBN, IN, CD, NNS, .]                             \n",
      " finished_spell | [captain, carry, gorge, earnest, luchford, -, lrb, -, 28, octobers, 1894, --, 2, december, 1917, -, rrb, -, was, an, english, world, war, i, pilot,... \n",
      " text           | captain harry george ernest luchford -lrb- 28 october 1894 -- 2 december 1917 -rrb- was an english world war i pilot credited with 24 victories .      \n",
      "-RECORD 1----------------------------------------------------------------------------------------------------------------------------------------------------------------\n",
      " finished_pos   | [PRP, VBD, JJ, IN, VBG, PRP$, JJ, CD, NNS, IN, CD, NNS, IN, VBG, DT, JJ, JJ, NN, ., CD, NN, NN, .]                                                     \n",
      " finished_spell | [he, was, notable, for, scoring, his, first, 11, victories, in, three, months, while, piloting, an, obsolete, double-seater, fe, ., 2, pusher, airc... \n",
      " text           | he was notable for scoring his first 11 victories in three months while piloting an obsolete double-seated fe .2 pusher aircraft .                     \n",
      "-RECORD 2----------------------------------------------------------------------------------------------------------------------------------------------------------------\n",
      " finished_pos   | [NN, NN, :, NN, :, VBN, NN, CD, ,, CD, :, NN, :, ,, RB, VBN, IN, NN, NN, CC, NN, NN, ,, VBZ, DT, NN, NN, CC, NN, NN, VBN, IN, PRP$, NNS, IN, NN, CC... \n",
      " finished_spell | [daryush, valizadeh, -, lrb, -, born, junk, 14, ,, 1979, -, rrb, -, ,, also, known, as, roosa, v, and, woosh, verek, ,, is, an, americana, writer, ... \n",
      " text           | daryush valizadeh -lrb- born june 14 , 1979 -rrb- , also known as roosh v and roosh vorek , is an american writer and pickup artist known for his w... \n",
      "-RECORD 3----------------------------------------------------------------------------------------------------------------------------------------------------------------\n",
      " finished_pos   | [NN, ``, NN, '', NN, NN, :, NN, :, VBN, CD, JJ, CD, :, NN, :, VBZ, DT, JJ, JJ, NN, WP, VBZ, IN, DT, NN, .]                                             \n",
      " finished_spell | [rafale, `, raft, ', garcía, garcía, -, lrb, -, born, 14, manuary, 1986, -, rrb, -, is, a, spadish, professional, footballer, who, plays, as, a, mi... \n",
      " text           | rafael ` rafa ' garcía garcía -lrb- born 14 january 1986 -rrb- is a spanish professional footballer who plays as a midfielder .                        \n",
      "-RECORD 4----------------------------------------------------------------------------------------------------------------------------------------------------------------\n",
      " finished_pos   | [NN, NNS, JJ, -, NN, -, VBN, NN, CD, ,, CD, IN, NN, ,, NN, -, NN, -, VBZ, DT, VBN, JJ, NN, NN, NN, .]                                                  \n",
      " finished_spell | [matthew, josephs, white, -, lrb, -, born, angust, 19, ,, 1977, in, pittsfield, ,, massachusetts, -, rrb, -, is, a, retired, major, league, basebal... \n",
      " text           | matthew joseph white -lrb- born august 19 , 1977 in pittsfield , massachusetts -rrb- is a retired major league baseball pitcher .                      \n",
      "-RECORD 5----------------------------------------------------------------------------------------------------------------------------------------------------------------\n",
      " finished_pos   | [PRP, VBD, NN, IN, CD, RB, IN, PRP$, NN, ,, CC, IN, PRP$, NN, IN, DT, JJ, NN, NN, IN, PRP$, JJ, NN, .]                                                 \n",
      " finished_spell | [he, made, news, in, 2007, not, with, his, pitching, ,, but, for, his, possession, of, a, potentially-lucrative, stone, quarry, in, his, native, ma... \n",
      " text           | he made news in 2007 not with his pitching , but for his possession of a potentially-lucrative stone quarry in his native massachusetts .              \n",
      "-RECORD 6----------------------------------------------------------------------------------------------------------------------------------------------------------------\n",
      " finished_pos   | [NN, NN, NN, :, NN, :, VBN, CD, NN, CD, :, NN, :, VBZ, DT, NNP, JJ, NN, NN, WP, VBD, IN, DT, NN, NN, IN, NN, NN, NN, ,, NN, NN, ,, NN, ,, NN, ,, NN... \n",
      " finished_spell | [anthony, leopard, golden, -, lrb, -, born, 2, angust, 1955, -, rrb, -, is, an, english, former, football, goalkeeper, who, played, in, the, footba... \n",
      " text           | anthony leonard godden -lrb- born 2 august 1955 -rrb- is an english former football goalkeeper who played in the football league for west bromwich ... \n",
      "-RECORD 7----------------------------------------------------------------------------------------------------------------------------------------------------------------\n",
      " finished_pos   | [NN, NNS, NN, VBP, NN, -, NN, -, VBN, CD, NN, CD, :, NN, :, VBZ, DT, NNS, NN, ,, WP, VBD, IN, JJ, NN, NN, .]                                           \n",
      " finished_spell | [aln, slopes, mamédio, do, cargo, -, lrb, -, born, 3, angust, 1989, -, rrb, -, is, a, brazilians, swimmer, ,, who, specialized, in, open, water, ma... \n",
      " text           | allan lopes mamédio do carmo -lrb- born 3 august 1989 -rrb- is a brazilian swimmer , who specialized in open water marathon .                          \n",
      "-RECORD 8----------------------------------------------------------------------------------------------------------------------------------------------------------------\n",
      " finished_pos   | [PRP, VBZ, VBN, CD, IN, DT, JJS, JJ, JJ, NN, NNS, IN, DT, NN, ,, VBG, IN, DT, JJ, IN, JJ, NN, NN, NNS, IN, DT, CD, NN, NN, .]                          \n",
      " finished_spell | [he, is, considered, one, of, the, fastest, professional, open, water, swimmers, in, the, world, ,, finishing, near, the, top, of, final, world, cu... \n",
      " text           | he is considered one of the fastest professional open water swimmers in the world , finishing near the top of fina world cup races for the 10 km ma... \n",
      "-RECORD 9----------------------------------------------------------------------------------------------------------------------------------------------------------------\n",
      " finished_pos   | [PRP, RB, VBD, DT, NN, NN, IN, PRP$, NN, IN, DT, CD, NN, NN, NNS, IN, NN, IN, NN, .]                                                                   \n",
      " finished_spell | [he, also, won, a, bronze, medal, for, his, category, at, the, 2007, pan, americana, games, in, rio, de, janeiro, .]                                   \n",
      " text           | he also won a bronze medal for his category at the 2007 pan american games in rio de janeiro .                                                         \n",
      "only showing top 10 rows\n",
      "\n"
     ]
    }
   ],
   "source": [
    "df.show(10,vertical=True,truncate=150)"
   ]
  },
  {
   "cell_type": "code",
   "execution_count": null,
   "metadata": {},
   "outputs": [],
   "source": []
  }
 ],
 "metadata": {
  "interpreter": {
   "hash": "71e4c5c747264a447f1e078a58b82fc5cb2a4d310632066934fb8da9baa9b0b1"
  },
  "kernelspec": {
   "display_name": "Python 3.10.4 ('py-sparknlp')",
   "language": "python",
   "name": "python3"
  },
  "language_info": {
   "codemirror_mode": {
    "name": "ipython",
    "version": 3
   },
   "file_extension": ".py",
   "mimetype": "text/x-python",
   "name": "python",
   "nbconvert_exporter": "python",
   "pygments_lexer": "ipython3",
   "version": "3.10.4"
  },
  "orig_nbformat": 4
 },
 "nbformat": 4,
 "nbformat_minor": 2
}
